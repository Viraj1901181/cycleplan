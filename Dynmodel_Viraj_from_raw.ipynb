{
 "cells": [
  {
   "cell_type": "code",
   "execution_count": 1,
   "id": "199a735c",
   "metadata": {
    "colab": {
     "base_uri": "https://localhost:8080/"
    },
    "id": "199a735c",
    "outputId": "55a120a7-ba8c-4ae1-adb1-d25ca52dc4fd"
   },
   "outputs": [
    {
     "name": "stderr",
     "output_type": "stream",
     "text": [
      "C:\\Users\\VIRAJ\\anaconda3\\lib\\site-packages\\IPython\\core\\interactiveshell.py:3524: DtypeWarning: Columns (24) have mixed types.Specify dtype option on import or set low_memory=False.\n",
      "  exec(code_obj, self.user_global_ns, self.user_ns)\n"
     ]
    }
   ],
   "source": [
    "# Reading the raw Cycle Plan Data\n",
    "import pandas as pd\n",
    "import numpy as np\n",
    "raw_data=pd.read_csv(r\"C:\\Users\\VIRAJ\\Desktop\\RIPE\\RIPE\\Data\\Cycleplan_Churn_Data_Raw.csv\",encoding='latin1')"
   ]
  },
  {
   "cell_type": "code",
   "execution_count": 2,
   "id": "6abe3863",
   "metadata": {
    "colab": {
     "base_uri": "https://localhost:8080/",
     "height": 392
    },
    "id": "6abe3863",
    "outputId": "a21b3984-60b1-4c29-c8e7-98e769eedb44"
   },
   "outputs": [
    {
     "data": {
      "text/html": [
       "<div><div id=010b7310-de06-46de-838d-d3cd6e6ec444 style=\"display:none; background-color:#9D6CFF; color:white; width:200px; height:30px; padding-left:5px; border-radius:4px; flex-direction:row; justify-content:space-around; align-items:center;\" onmouseover=\"this.style.backgroundColor='#BA9BF8'\" onmouseout=\"this.style.backgroundColor='#9D6CFF'\" onclick=\"window.commands?.execute('create-mitosheet-from-dataframe-output');\">See Full Dataframe in Mito</div> <script> if (window.commands.hasCommand('create-mitosheet-from-dataframe-output')) document.getElementById('010b7310-de06-46de-838d-d3cd6e6ec444').style.display = 'flex' </script> <table border=\"1\" class=\"dataframe\">\n",
       "  <thead>\n",
       "    <tr style=\"text-align: right;\">\n",
       "      <th></th>\n",
       "      <th>repDate</th>\n",
       "      <th>status</th>\n",
       "      <th>policyID</th>\n",
       "      <th>policyNumber</th>\n",
       "      <th>Core Policy Number</th>\n",
       "      <th>UID</th>\n",
       "      <th>policyholderPostcode</th>\n",
       "      <th>policyCreatedDate</th>\n",
       "      <th>policyPremium</th>\n",
       "      <th>policyStartDate</th>\n",
       "      <th>...</th>\n",
       "      <th>Touring</th>\n",
       "      <th>Trekking</th>\n",
       "      <th>Tricycle</th>\n",
       "      <th>Unicycle</th>\n",
       "      <th>Other</th>\n",
       "      <th>ElectricScooter</th>\n",
       "      <th>No. Claims</th>\n",
       "      <th>Paid</th>\n",
       "      <th>Reserve</th>\n",
       "      <th>Incurred</th>\n",
       "    </tr>\n",
       "  </thead>\n",
       "  <tbody>\n",
       "    <tr>\n",
       "      <th>0</th>\n",
       "      <td>01-01-2016</td>\n",
       "      <td>renewed</td>\n",
       "      <td>677599</td>\n",
       "      <td>RHCP102465</td>\n",
       "      <td>CP102465</td>\n",
       "      <td>CP10246542005</td>\n",
       "      <td>W5 4TL</td>\n",
       "      <td>01-01-2014</td>\n",
       "      <td>16.2855</td>\n",
       "      <td>01-01-2015</td>\n",
       "      <td>...</td>\n",
       "      <td>0</td>\n",
       "      <td>0</td>\n",
       "      <td>0</td>\n",
       "      <td>0</td>\n",
       "      <td>0</td>\n",
       "      <td>0</td>\n",
       "      <td>NaN</td>\n",
       "      <td>NaN</td>\n",
       "      <td>NaN</td>\n",
       "      <td>NaN</td>\n",
       "    </tr>\n",
       "    <tr>\n",
       "      <th>1</th>\n",
       "      <td>01-01-2016</td>\n",
       "      <td>renewed</td>\n",
       "      <td>678146</td>\n",
       "      <td>RHCP123426</td>\n",
       "      <td>CP123426</td>\n",
       "      <td>CP12342642005</td>\n",
       "      <td>CF24 3BA</td>\n",
       "      <td>30-12-2014</td>\n",
       "      <td>105.2000</td>\n",
       "      <td>01-01-2015</td>\n",
       "      <td>...</td>\n",
       "      <td>0</td>\n",
       "      <td>0</td>\n",
       "      <td>0</td>\n",
       "      <td>0</td>\n",
       "      <td>0</td>\n",
       "      <td>0</td>\n",
       "      <td>NaN</td>\n",
       "      <td>NaN</td>\n",
       "      <td>NaN</td>\n",
       "      <td>NaN</td>\n",
       "    </tr>\n",
       "    <tr>\n",
       "      <th>2</th>\n",
       "      <td>01-01-2016</td>\n",
       "      <td>renewed</td>\n",
       "      <td>678727</td>\n",
       "      <td>RHCP101833</td>\n",
       "      <td>CP101833</td>\n",
       "      <td>CP10183342005</td>\n",
       "      <td>LE15 6ES</td>\n",
       "      <td>14-12-2013</td>\n",
       "      <td>22.5000</td>\n",
       "      <td>01-01-2015</td>\n",
       "      <td>...</td>\n",
       "      <td>0</td>\n",
       "      <td>0</td>\n",
       "      <td>0</td>\n",
       "      <td>0</td>\n",
       "      <td>0</td>\n",
       "      <td>0</td>\n",
       "      <td>NaN</td>\n",
       "      <td>NaN</td>\n",
       "      <td>NaN</td>\n",
       "      <td>NaN</td>\n",
       "    </tr>\n",
       "    <tr>\n",
       "      <th>3</th>\n",
       "      <td>01-01-2016</td>\n",
       "      <td>new</td>\n",
       "      <td>874693</td>\n",
       "      <td>CP160935</td>\n",
       "      <td>CP160935</td>\n",
       "      <td>CP16093542370</td>\n",
       "      <td>BN1 8DH</td>\n",
       "      <td>16-12-2015</td>\n",
       "      <td>98.6700</td>\n",
       "      <td>01-01-2016</td>\n",
       "      <td>...</td>\n",
       "      <td>0</td>\n",
       "      <td>0</td>\n",
       "      <td>0</td>\n",
       "      <td>0</td>\n",
       "      <td>0</td>\n",
       "      <td>0</td>\n",
       "      <td>NaN</td>\n",
       "      <td>NaN</td>\n",
       "      <td>NaN</td>\n",
       "      <td>NaN</td>\n",
       "    </tr>\n",
       "    <tr>\n",
       "      <th>4</th>\n",
       "      <td>01-01-2016</td>\n",
       "      <td>new</td>\n",
       "      <td>879353</td>\n",
       "      <td>RHCP161815</td>\n",
       "      <td>CP161815</td>\n",
       "      <td>CP16181542370</td>\n",
       "      <td>LA15 8BQ</td>\n",
       "      <td>01-01-2016</td>\n",
       "      <td>54.2850</td>\n",
       "      <td>01-01-2016</td>\n",
       "      <td>...</td>\n",
       "      <td>0</td>\n",
       "      <td>0</td>\n",
       "      <td>0</td>\n",
       "      <td>0</td>\n",
       "      <td>0</td>\n",
       "      <td>0</td>\n",
       "      <td>NaN</td>\n",
       "      <td>NaN</td>\n",
       "      <td>NaN</td>\n",
       "      <td>NaN</td>\n",
       "    </tr>\n",
       "  </tbody>\n",
       "</table></div>"
      ],
      "text/plain": [
       "      repDate   status  policyID policyNumber Core Policy Number  \\\n",
       "0  01-01-2016  renewed    677599   RHCP102465           CP102465   \n",
       "1  01-01-2016  renewed    678146   RHCP123426           CP123426   \n",
       "2  01-01-2016  renewed    678727   RHCP101833           CP101833   \n",
       "3  01-01-2016      new    874693     CP160935           CP160935   \n",
       "4  01-01-2016      new    879353   RHCP161815           CP161815   \n",
       "\n",
       "             UID policyholderPostcode policyCreatedDate  policyPremium  \\\n",
       "0  CP10246542005               W5 4TL        01-01-2014        16.2855   \n",
       "1  CP12342642005             CF24 3BA        30-12-2014       105.2000   \n",
       "2  CP10183342005             LE15 6ES        14-12-2013        22.5000   \n",
       "3  CP16093542370              BN1 8DH        16-12-2015        98.6700   \n",
       "4  CP16181542370             LA15 8BQ        01-01-2016        54.2850   \n",
       "\n",
       "  policyStartDate  ... Touring Trekking Tricycle Unicycle Other  \\\n",
       "0      01-01-2015  ...       0        0        0        0     0   \n",
       "1      01-01-2015  ...       0        0        0        0     0   \n",
       "2      01-01-2015  ...       0        0        0        0     0   \n",
       "3      01-01-2016  ...       0        0        0        0     0   \n",
       "4      01-01-2016  ...       0        0        0        0     0   \n",
       "\n",
       "   ElectricScooter  No. Claims  Paid  Reserve  Incurred  \n",
       "0                0         NaN   NaN      NaN       NaN  \n",
       "1                0         NaN   NaN      NaN       NaN  \n",
       "2                0         NaN   NaN      NaN       NaN  \n",
       "3                0         NaN   NaN      NaN       NaN  \n",
       "4                0         NaN   NaN      NaN       NaN  \n",
       "\n",
       "[5 rows x 61 columns]"
      ]
     },
     "execution_count": 2,
     "metadata": {},
     "output_type": "execute_result"
    }
   ],
   "source": [
    "raw_data.head()"
   ]
  },
  {
   "cell_type": "code",
   "execution_count": 3,
   "id": "73d7ca0c",
   "metadata": {
    "colab": {
     "base_uri": "https://localhost:8080/",
     "height": 35
    },
    "id": "73d7ca0c",
    "outputId": "72316715-4c23-44c2-cf1e-32aaad204426"
   },
   "outputs": [
    {
     "data": {
      "text/plain": [
       "'01-01-2016'"
      ]
     },
     "execution_count": 3,
     "metadata": {},
     "output_type": "execute_result"
    }
   ],
   "source": [
    "raw_data.repDate.min()"
   ]
  },
  {
   "cell_type": "code",
   "execution_count": 4,
   "id": "d4386010",
   "metadata": {
    "colab": {
     "base_uri": "https://localhost:8080/",
     "height": 35
    },
    "id": "d4386010",
    "outputId": "4abab629-93c3-4462-b780-b7a0241b1ce3"
   },
   "outputs": [
    {
     "data": {
      "text/plain": [
       "'31-12-2020'"
      ]
     },
     "execution_count": 4,
     "metadata": {},
     "output_type": "execute_result"
    }
   ],
   "source": [
    "raw_data.repDate.max()"
   ]
  },
  {
   "cell_type": "code",
   "execution_count": 5,
   "id": "816b9719",
   "metadata": {
    "colab": {
     "base_uri": "https://localhost:8080/",
     "height": 35
    },
    "id": "816b9719",
    "outputId": "e36b8621-f7b8-456b-e67a-cf9500839a92"
   },
   "outputs": [
    {
     "data": {
      "text/plain": [
       "'31-12-2020'"
      ]
     },
     "execution_count": 5,
     "metadata": {},
     "output_type": "execute_result"
    }
   ],
   "source": [
    "raw_data.policyCreatedDate.max()"
   ]
  },
  {
   "cell_type": "code",
   "execution_count": 6,
   "id": "b556e4e4",
   "metadata": {
    "id": "b556e4e4"
   },
   "outputs": [],
   "source": [
    "raw_data=raw_data[raw_data['policyCreatedDate']<='31-12-2019']"
   ]
  },
  {
   "cell_type": "code",
   "execution_count": 7,
   "id": "f24f21f5",
   "metadata": {
    "colab": {
     "base_uri": "https://localhost:8080/",
     "height": 35
    },
    "id": "f24f21f5",
    "outputId": "563ac435-6c11-4ff0-c6df-d768de74c7fa"
   },
   "outputs": [
    {
     "data": {
      "text/plain": [
       "'31-12-2019'"
      ]
     },
     "execution_count": 7,
     "metadata": {},
     "output_type": "execute_result"
    }
   ],
   "source": [
    "raw_data.policyCreatedDate.max()"
   ]
  },
  {
   "cell_type": "code",
   "execution_count": 8,
   "id": "ef4d21be",
   "metadata": {
    "colab": {
     "base_uri": "https://localhost:8080/",
     "height": 35
    },
    "id": "ef4d21be",
    "outputId": "77d3af05-e661-423e-f622-b721d4ccfad1"
   },
   "outputs": [
    {
     "data": {
      "text/plain": [
       "'01-01-2016'"
      ]
     },
     "execution_count": 8,
     "metadata": {},
     "output_type": "execute_result"
    }
   ],
   "source": [
    "raw_data['policyEndDate'].min()"
   ]
  },
  {
   "cell_type": "code",
   "execution_count": 9,
   "id": "4904cca1",
   "metadata": {
    "colab": {
     "base_uri": "https://localhost:8080/",
     "height": 35
    },
    "id": "4904cca1",
    "outputId": "457f6908-8093-4eac-e5b5-dcb84478779d"
   },
   "outputs": [
    {
     "data": {
      "text/plain": [
       "'31-12-2021'"
      ]
     },
     "execution_count": 9,
     "metadata": {},
     "output_type": "execute_result"
    }
   ],
   "source": [
    "raw_data['policyEndDate'].max()"
   ]
  },
  {
   "cell_type": "code",
   "execution_count": 10,
   "id": "96649d39",
   "metadata": {
    "id": "96649d39"
   },
   "outputs": [],
   "source": [
    "#df['year'] = pd.DatetimeIndex(df['ArrivalDate']).year\n",
    "#df['month'] = pd.DatetimeIndex(df['ArrivalDate']).month"
   ]
  },
  {
   "cell_type": "code",
   "execution_count": 11,
   "id": "cc3f88a6",
   "metadata": {
    "colab": {
     "base_uri": "https://localhost:8080/"
    },
    "id": "cc3f88a6",
    "outputId": "259be40a-e469-4d6e-d1ca-4ab156b9a467"
   },
   "outputs": [
    {
     "data": {
      "text/plain": [
       "7     25427\n",
       "8     24673\n",
       "6     23644\n",
       "5     23260\n",
       "4     20367\n",
       "9     20212\n",
       "3     17401\n",
       "1     16496\n",
       "2     15328\n",
       "10    14960\n",
       "11    13450\n",
       "12    13079\n",
       "Name: month, dtype: int64"
      ]
     },
     "execution_count": 11,
     "metadata": {},
     "output_type": "execute_result"
    }
   ],
   "source": [
    "import datetime\n",
    "#for i in range(len(raw_data)):\n",
    "    # raw_data['month'][i] = datetime.datetime.strptime(raw_data['policyCreatedDate'], \"%Y-%m-%d\")\n",
    "#raw_data['month'] = raw_data['policyCreatedDate'][3:5]\n",
    "raw_data['month'] = pd.DatetimeIndex(raw_data['policyCreatedDate']).month\n",
    "raw_data['month'].value_counts()"
   ]
  },
  {
   "cell_type": "code",
   "execution_count": 12,
   "id": "4b06bcc2",
   "metadata": {
    "colab": {
     "base_uri": "https://localhost:8080/",
     "height": 392
    },
    "id": "4b06bcc2",
    "outputId": "69984b93-731b-4e76-e1a3-a238fbc98fb0"
   },
   "outputs": [
    {
     "data": {
      "text/html": [
       "<div><div id=8a3ed841-9a21-44df-a80d-96fc7ee4da16 style=\"display:none; background-color:#9D6CFF; color:white; width:200px; height:30px; padding-left:5px; border-radius:4px; flex-direction:row; justify-content:space-around; align-items:center;\" onmouseover=\"this.style.backgroundColor='#BA9BF8'\" onmouseout=\"this.style.backgroundColor='#9D6CFF'\" onclick=\"window.commands?.execute('create-mitosheet-from-dataframe-output');\">See Full Dataframe in Mito</div> <script> if (window.commands.hasCommand('create-mitosheet-from-dataframe-output')) document.getElementById('8a3ed841-9a21-44df-a80d-96fc7ee4da16').style.display = 'flex' </script> <table border=\"1\" class=\"dataframe\">\n",
       "  <thead>\n",
       "    <tr style=\"text-align: right;\">\n",
       "      <th></th>\n",
       "      <th>repDate</th>\n",
       "      <th>status</th>\n",
       "      <th>policyID</th>\n",
       "      <th>policyNumber</th>\n",
       "      <th>Core Policy Number</th>\n",
       "      <th>UID</th>\n",
       "      <th>policyholderPostcode</th>\n",
       "      <th>policyCreatedDate</th>\n",
       "      <th>policyPremium</th>\n",
       "      <th>policyStartDate</th>\n",
       "      <th>...</th>\n",
       "      <th>Trekking</th>\n",
       "      <th>Tricycle</th>\n",
       "      <th>Unicycle</th>\n",
       "      <th>Other</th>\n",
       "      <th>ElectricScooter</th>\n",
       "      <th>No. Claims</th>\n",
       "      <th>Paid</th>\n",
       "      <th>Reserve</th>\n",
       "      <th>Incurred</th>\n",
       "      <th>month</th>\n",
       "    </tr>\n",
       "  </thead>\n",
       "  <tbody>\n",
       "    <tr>\n",
       "      <th>0</th>\n",
       "      <td>01-01-2016</td>\n",
       "      <td>renewed</td>\n",
       "      <td>677599</td>\n",
       "      <td>RHCP102465</td>\n",
       "      <td>CP102465</td>\n",
       "      <td>CP10246542005</td>\n",
       "      <td>W5 4TL</td>\n",
       "      <td>01-01-2014</td>\n",
       "      <td>16.2855</td>\n",
       "      <td>01-01-2015</td>\n",
       "      <td>...</td>\n",
       "      <td>0</td>\n",
       "      <td>0</td>\n",
       "      <td>0</td>\n",
       "      <td>0</td>\n",
       "      <td>0</td>\n",
       "      <td>NaN</td>\n",
       "      <td>NaN</td>\n",
       "      <td>NaN</td>\n",
       "      <td>NaN</td>\n",
       "      <td>1</td>\n",
       "    </tr>\n",
       "    <tr>\n",
       "      <th>1</th>\n",
       "      <td>01-01-2016</td>\n",
       "      <td>renewed</td>\n",
       "      <td>678146</td>\n",
       "      <td>RHCP123426</td>\n",
       "      <td>CP123426</td>\n",
       "      <td>CP12342642005</td>\n",
       "      <td>CF24 3BA</td>\n",
       "      <td>30-12-2014</td>\n",
       "      <td>105.2000</td>\n",
       "      <td>01-01-2015</td>\n",
       "      <td>...</td>\n",
       "      <td>0</td>\n",
       "      <td>0</td>\n",
       "      <td>0</td>\n",
       "      <td>0</td>\n",
       "      <td>0</td>\n",
       "      <td>NaN</td>\n",
       "      <td>NaN</td>\n",
       "      <td>NaN</td>\n",
       "      <td>NaN</td>\n",
       "      <td>12</td>\n",
       "    </tr>\n",
       "    <tr>\n",
       "      <th>2</th>\n",
       "      <td>01-01-2016</td>\n",
       "      <td>renewed</td>\n",
       "      <td>678727</td>\n",
       "      <td>RHCP101833</td>\n",
       "      <td>CP101833</td>\n",
       "      <td>CP10183342005</td>\n",
       "      <td>LE15 6ES</td>\n",
       "      <td>14-12-2013</td>\n",
       "      <td>22.5000</td>\n",
       "      <td>01-01-2015</td>\n",
       "      <td>...</td>\n",
       "      <td>0</td>\n",
       "      <td>0</td>\n",
       "      <td>0</td>\n",
       "      <td>0</td>\n",
       "      <td>0</td>\n",
       "      <td>NaN</td>\n",
       "      <td>NaN</td>\n",
       "      <td>NaN</td>\n",
       "      <td>NaN</td>\n",
       "      <td>12</td>\n",
       "    </tr>\n",
       "    <tr>\n",
       "      <th>3</th>\n",
       "      <td>01-01-2016</td>\n",
       "      <td>new</td>\n",
       "      <td>874693</td>\n",
       "      <td>CP160935</td>\n",
       "      <td>CP160935</td>\n",
       "      <td>CP16093542370</td>\n",
       "      <td>BN1 8DH</td>\n",
       "      <td>16-12-2015</td>\n",
       "      <td>98.6700</td>\n",
       "      <td>01-01-2016</td>\n",
       "      <td>...</td>\n",
       "      <td>0</td>\n",
       "      <td>0</td>\n",
       "      <td>0</td>\n",
       "      <td>0</td>\n",
       "      <td>0</td>\n",
       "      <td>NaN</td>\n",
       "      <td>NaN</td>\n",
       "      <td>NaN</td>\n",
       "      <td>NaN</td>\n",
       "      <td>12</td>\n",
       "    </tr>\n",
       "    <tr>\n",
       "      <th>4</th>\n",
       "      <td>01-01-2016</td>\n",
       "      <td>new</td>\n",
       "      <td>879353</td>\n",
       "      <td>RHCP161815</td>\n",
       "      <td>CP161815</td>\n",
       "      <td>CP16181542370</td>\n",
       "      <td>LA15 8BQ</td>\n",
       "      <td>01-01-2016</td>\n",
       "      <td>54.2850</td>\n",
       "      <td>01-01-2016</td>\n",
       "      <td>...</td>\n",
       "      <td>0</td>\n",
       "      <td>0</td>\n",
       "      <td>0</td>\n",
       "      <td>0</td>\n",
       "      <td>0</td>\n",
       "      <td>NaN</td>\n",
       "      <td>NaN</td>\n",
       "      <td>NaN</td>\n",
       "      <td>NaN</td>\n",
       "      <td>1</td>\n",
       "    </tr>\n",
       "  </tbody>\n",
       "</table></div>"
      ],
      "text/plain": [
       "      repDate   status  policyID policyNumber Core Policy Number  \\\n",
       "0  01-01-2016  renewed    677599   RHCP102465           CP102465   \n",
       "1  01-01-2016  renewed    678146   RHCP123426           CP123426   \n",
       "2  01-01-2016  renewed    678727   RHCP101833           CP101833   \n",
       "3  01-01-2016      new    874693     CP160935           CP160935   \n",
       "4  01-01-2016      new    879353   RHCP161815           CP161815   \n",
       "\n",
       "             UID policyholderPostcode policyCreatedDate  policyPremium  \\\n",
       "0  CP10246542005               W5 4TL        01-01-2014        16.2855   \n",
       "1  CP12342642005             CF24 3BA        30-12-2014       105.2000   \n",
       "2  CP10183342005             LE15 6ES        14-12-2013        22.5000   \n",
       "3  CP16093542370              BN1 8DH        16-12-2015        98.6700   \n",
       "4  CP16181542370             LA15 8BQ        01-01-2016        54.2850   \n",
       "\n",
       "  policyStartDate  ... Trekking Tricycle Unicycle Other ElectricScooter  \\\n",
       "0      01-01-2015  ...        0        0        0     0               0   \n",
       "1      01-01-2015  ...        0        0        0     0               0   \n",
       "2      01-01-2015  ...        0        0        0     0               0   \n",
       "3      01-01-2016  ...        0        0        0     0               0   \n",
       "4      01-01-2016  ...        0        0        0     0               0   \n",
       "\n",
       "   No. Claims  Paid  Reserve  Incurred  month  \n",
       "0         NaN   NaN      NaN       NaN      1  \n",
       "1         NaN   NaN      NaN       NaN     12  \n",
       "2         NaN   NaN      NaN       NaN     12  \n",
       "3         NaN   NaN      NaN       NaN     12  \n",
       "4         NaN   NaN      NaN       NaN      1  \n",
       "\n",
       "[5 rows x 62 columns]"
      ]
     },
     "execution_count": 12,
     "metadata": {},
     "output_type": "execute_result"
    }
   ],
   "source": [
    "raw_data.head()"
   ]
  },
  {
   "cell_type": "code",
   "execution_count": 13,
   "id": "9b7ba35d",
   "metadata": {
    "colab": {
     "base_uri": "https://localhost:8080/"
    },
    "id": "9b7ba35d",
    "outputId": "b1639560-27fa-4d71-b0ac-cc35885ce67a"
   },
   "outputs": [
    {
     "name": "stdout",
     "output_type": "stream",
     "text": [
      "<class 'str'>\n"
     ]
    }
   ],
   "source": [
    "print(type(raw_data.policyEndDate[0]))"
   ]
  },
  {
   "cell_type": "code",
   "execution_count": 14,
   "id": "ebe509c9",
   "metadata": {
    "id": "ebe509c9"
   },
   "outputs": [],
   "source": [
    "raw_data['lapse_pre_covid'] = 0\n",
    "raw_data['lapse_in_covid'] = 0"
   ]
  },
  {
   "cell_type": "code",
   "execution_count": 15,
   "id": "dae5a786",
   "metadata": {
    "colab": {
     "base_uri": "https://localhost:8080/"
    },
    "id": "dae5a786",
    "outputId": "09a278f5-ae32-4942-f920-4224dfe22c0b"
   },
   "outputs": [
    {
     "name": "stdout",
     "output_type": "stream",
     "text": [
      "2019-03-23\n"
     ]
    }
   ],
   "source": [
    "import datetime\n",
    "date_str = '23/3/2019' # The date - 29 Dec 2017\n",
    "format_str = '%d/%m/%Y' # The format\n",
    "datetime_obj = datetime.datetime.strptime(date_str, format_str)\n",
    "print(datetime_obj.date())"
   ]
  },
  {
   "cell_type": "code",
   "execution_count": 16,
   "id": "726c2087",
   "metadata": {
    "colab": {
     "base_uri": "https://localhost:8080/"
    },
    "id": "726c2087",
    "outputId": "a5cf6c14-7d0a-4163-e3c0-7388717bde80"
   },
   "outputs": [
    {
     "data": {
      "text/plain": [
       "datetime.datetime"
      ]
     },
     "execution_count": 16,
     "metadata": {},
     "output_type": "execute_result"
    }
   ],
   "source": [
    "type(datetime_obj)"
   ]
  },
  {
   "cell_type": "code",
   "execution_count": 17,
   "id": "d7282550",
   "metadata": {
    "colab": {
     "base_uri": "https://localhost:8080/"
    },
    "id": "d7282550",
    "outputId": "ee03b258-a03e-4811-a25a-1938a8486395"
   },
   "outputs": [
    {
     "data": {
      "text/plain": [
       "str"
      ]
     },
     "execution_count": 17,
     "metadata": {},
     "output_type": "execute_result"
    }
   ],
   "source": [
    "type(raw_data.policyEndDate[0])"
   ]
  },
  {
   "cell_type": "code",
   "execution_count": 18,
   "id": "6c720a31",
   "metadata": {
    "id": "6c720a31"
   },
   "outputs": [],
   "source": [
    "# Type cast datetime_obj as string to compare the same data types\n",
    "for index,row in raw_data.iterrows():\n",
    "    if raw_data.at[index, 'policyEndDate']< str(datetime_obj):\n",
    "        raw_data.at[index, 'lapse_pre_covid'] = 1\n",
    "        raw_data.at[index,'lapse_in_covid'] = 0\n",
    "    else: \n",
    "        raw_data.at[index,'lapse_pre_covid'] = 0\n",
    "        raw_data.at[index,'lapse_in_covid']= 1\n",
    "        "
   ]
  },
  {
   "cell_type": "code",
   "execution_count": 19,
   "id": "0c084906",
   "metadata": {
    "colab": {
     "base_uri": "https://localhost:8080/"
    },
    "id": "0c084906",
    "outputId": "0393f013-06d9-4922-d283-c61e38ea9ebd"
   },
   "outputs": [
    {
     "data": {
      "text/plain": [
       "1    147013\n",
       "0     81284\n",
       "Name: lapse_pre_covid, dtype: int64"
      ]
     },
     "execution_count": 19,
     "metadata": {},
     "output_type": "execute_result"
    }
   ],
   "source": [
    "raw_data['lapse_pre_covid'].value_counts()"
   ]
  },
  {
   "cell_type": "code",
   "execution_count": 20,
   "id": "fb20c0fa",
   "metadata": {
    "colab": {
     "base_uri": "https://localhost:8080/"
    },
    "id": "fb20c0fa",
    "outputId": "194dc14b-7207-44c0-8634-c145986f7018"
   },
   "outputs": [
    {
     "data": {
      "text/plain": [
       "0    147013\n",
       "1     81284\n",
       "Name: lapse_in_covid, dtype: int64"
      ]
     },
     "execution_count": 20,
     "metadata": {},
     "output_type": "execute_result"
    }
   ],
   "source": [
    "raw_data['lapse_in_covid'].value_counts()"
   ]
  },
  {
   "cell_type": "code",
   "execution_count": 21,
   "id": "0650b3b8",
   "metadata": {
    "colab": {
     "base_uri": "https://localhost:8080/",
     "height": 392
    },
    "id": "0650b3b8",
    "outputId": "2856463b-7f84-4457-c91d-122da34b9986"
   },
   "outputs": [
    {
     "data": {
      "text/html": [
       "<div><div id=a3e268ed-9d9f-4c1c-89d9-5641c51312ed style=\"display:none; background-color:#9D6CFF; color:white; width:200px; height:30px; padding-left:5px; border-radius:4px; flex-direction:row; justify-content:space-around; align-items:center;\" onmouseover=\"this.style.backgroundColor='#BA9BF8'\" onmouseout=\"this.style.backgroundColor='#9D6CFF'\" onclick=\"window.commands?.execute('create-mitosheet-from-dataframe-output');\">See Full Dataframe in Mito</div> <script> if (window.commands.hasCommand('create-mitosheet-from-dataframe-output')) document.getElementById('a3e268ed-9d9f-4c1c-89d9-5641c51312ed').style.display = 'flex' </script> <table border=\"1\" class=\"dataframe\">\n",
       "  <thead>\n",
       "    <tr style=\"text-align: right;\">\n",
       "      <th></th>\n",
       "      <th>repDate</th>\n",
       "      <th>status</th>\n",
       "      <th>policyID</th>\n",
       "      <th>policyNumber</th>\n",
       "      <th>Core Policy Number</th>\n",
       "      <th>UID</th>\n",
       "      <th>policyholderPostcode</th>\n",
       "      <th>policyCreatedDate</th>\n",
       "      <th>policyPremium</th>\n",
       "      <th>policyStartDate</th>\n",
       "      <th>...</th>\n",
       "      <th>Unicycle</th>\n",
       "      <th>Other</th>\n",
       "      <th>ElectricScooter</th>\n",
       "      <th>No. Claims</th>\n",
       "      <th>Paid</th>\n",
       "      <th>Reserve</th>\n",
       "      <th>Incurred</th>\n",
       "      <th>month</th>\n",
       "      <th>lapse_pre_covid</th>\n",
       "      <th>lapse_in_covid</th>\n",
       "    </tr>\n",
       "  </thead>\n",
       "  <tbody>\n",
       "    <tr>\n",
       "      <th>0</th>\n",
       "      <td>01-01-2016</td>\n",
       "      <td>renewed</td>\n",
       "      <td>677599</td>\n",
       "      <td>RHCP102465</td>\n",
       "      <td>CP102465</td>\n",
       "      <td>CP10246542005</td>\n",
       "      <td>W5 4TL</td>\n",
       "      <td>01-01-2014</td>\n",
       "      <td>16.2855</td>\n",
       "      <td>01-01-2015</td>\n",
       "      <td>...</td>\n",
       "      <td>0</td>\n",
       "      <td>0</td>\n",
       "      <td>0</td>\n",
       "      <td>NaN</td>\n",
       "      <td>NaN</td>\n",
       "      <td>NaN</td>\n",
       "      <td>NaN</td>\n",
       "      <td>1</td>\n",
       "      <td>0</td>\n",
       "      <td>1</td>\n",
       "    </tr>\n",
       "    <tr>\n",
       "      <th>1</th>\n",
       "      <td>01-01-2016</td>\n",
       "      <td>renewed</td>\n",
       "      <td>678146</td>\n",
       "      <td>RHCP123426</td>\n",
       "      <td>CP123426</td>\n",
       "      <td>CP12342642005</td>\n",
       "      <td>CF24 3BA</td>\n",
       "      <td>30-12-2014</td>\n",
       "      <td>105.2000</td>\n",
       "      <td>01-01-2015</td>\n",
       "      <td>...</td>\n",
       "      <td>0</td>\n",
       "      <td>0</td>\n",
       "      <td>0</td>\n",
       "      <td>NaN</td>\n",
       "      <td>NaN</td>\n",
       "      <td>NaN</td>\n",
       "      <td>NaN</td>\n",
       "      <td>12</td>\n",
       "      <td>0</td>\n",
       "      <td>1</td>\n",
       "    </tr>\n",
       "    <tr>\n",
       "      <th>2</th>\n",
       "      <td>01-01-2016</td>\n",
       "      <td>renewed</td>\n",
       "      <td>678727</td>\n",
       "      <td>RHCP101833</td>\n",
       "      <td>CP101833</td>\n",
       "      <td>CP10183342005</td>\n",
       "      <td>LE15 6ES</td>\n",
       "      <td>14-12-2013</td>\n",
       "      <td>22.5000</td>\n",
       "      <td>01-01-2015</td>\n",
       "      <td>...</td>\n",
       "      <td>0</td>\n",
       "      <td>0</td>\n",
       "      <td>0</td>\n",
       "      <td>NaN</td>\n",
       "      <td>NaN</td>\n",
       "      <td>NaN</td>\n",
       "      <td>NaN</td>\n",
       "      <td>12</td>\n",
       "      <td>0</td>\n",
       "      <td>1</td>\n",
       "    </tr>\n",
       "    <tr>\n",
       "      <th>3</th>\n",
       "      <td>01-01-2016</td>\n",
       "      <td>new</td>\n",
       "      <td>874693</td>\n",
       "      <td>CP160935</td>\n",
       "      <td>CP160935</td>\n",
       "      <td>CP16093542370</td>\n",
       "      <td>BN1 8DH</td>\n",
       "      <td>16-12-2015</td>\n",
       "      <td>98.6700</td>\n",
       "      <td>01-01-2016</td>\n",
       "      <td>...</td>\n",
       "      <td>0</td>\n",
       "      <td>0</td>\n",
       "      <td>0</td>\n",
       "      <td>NaN</td>\n",
       "      <td>NaN</td>\n",
       "      <td>NaN</td>\n",
       "      <td>NaN</td>\n",
       "      <td>12</td>\n",
       "      <td>0</td>\n",
       "      <td>1</td>\n",
       "    </tr>\n",
       "    <tr>\n",
       "      <th>4</th>\n",
       "      <td>01-01-2016</td>\n",
       "      <td>new</td>\n",
       "      <td>879353</td>\n",
       "      <td>RHCP161815</td>\n",
       "      <td>CP161815</td>\n",
       "      <td>CP16181542370</td>\n",
       "      <td>LA15 8BQ</td>\n",
       "      <td>01-01-2016</td>\n",
       "      <td>54.2850</td>\n",
       "      <td>01-01-2016</td>\n",
       "      <td>...</td>\n",
       "      <td>0</td>\n",
       "      <td>0</td>\n",
       "      <td>0</td>\n",
       "      <td>NaN</td>\n",
       "      <td>NaN</td>\n",
       "      <td>NaN</td>\n",
       "      <td>NaN</td>\n",
       "      <td>1</td>\n",
       "      <td>0</td>\n",
       "      <td>1</td>\n",
       "    </tr>\n",
       "  </tbody>\n",
       "</table></div>"
      ],
      "text/plain": [
       "      repDate   status  policyID policyNumber Core Policy Number  \\\n",
       "0  01-01-2016  renewed    677599   RHCP102465           CP102465   \n",
       "1  01-01-2016  renewed    678146   RHCP123426           CP123426   \n",
       "2  01-01-2016  renewed    678727   RHCP101833           CP101833   \n",
       "3  01-01-2016      new    874693     CP160935           CP160935   \n",
       "4  01-01-2016      new    879353   RHCP161815           CP161815   \n",
       "\n",
       "             UID policyholderPostcode policyCreatedDate  policyPremium  \\\n",
       "0  CP10246542005               W5 4TL        01-01-2014        16.2855   \n",
       "1  CP12342642005             CF24 3BA        30-12-2014       105.2000   \n",
       "2  CP10183342005             LE15 6ES        14-12-2013        22.5000   \n",
       "3  CP16093542370              BN1 8DH        16-12-2015        98.6700   \n",
       "4  CP16181542370             LA15 8BQ        01-01-2016        54.2850   \n",
       "\n",
       "  policyStartDate  ... Unicycle Other ElectricScooter No. Claims Paid  \\\n",
       "0      01-01-2015  ...        0     0               0        NaN  NaN   \n",
       "1      01-01-2015  ...        0     0               0        NaN  NaN   \n",
       "2      01-01-2015  ...        0     0               0        NaN  NaN   \n",
       "3      01-01-2016  ...        0     0               0        NaN  NaN   \n",
       "4      01-01-2016  ...        0     0               0        NaN  NaN   \n",
       "\n",
       "   Reserve  Incurred  month  lapse_pre_covid  lapse_in_covid  \n",
       "0      NaN       NaN      1                0               1  \n",
       "1      NaN       NaN     12                0               1  \n",
       "2      NaN       NaN     12                0               1  \n",
       "3      NaN       NaN     12                0               1  \n",
       "4      NaN       NaN      1                0               1  \n",
       "\n",
       "[5 rows x 64 columns]"
      ]
     },
     "execution_count": 21,
     "metadata": {},
     "output_type": "execute_result"
    }
   ],
   "source": [
    "raw_data.head()"
   ]
  },
  {
   "cell_type": "code",
   "execution_count": 22,
   "id": "40f3d05e",
   "metadata": {
    "id": "40f3d05e"
   },
   "outputs": [],
   "source": [
    "def datetime_to_float(row):\n",
    "    return row.timestamp()"
   ]
  },
  {
   "cell_type": "code",
   "execution_count": 23,
   "id": "8037be99",
   "metadata": {
    "colab": {
     "base_uri": "https://localhost:8080/"
    },
    "id": "8037be99",
    "outputId": "7ff5b3d1-6887-4c80-b8f6-da367f4227c4"
   },
   "outputs": [
    {
     "data": {
      "text/plain": [
       "(228297, 64)"
      ]
     },
     "execution_count": 23,
     "metadata": {},
     "output_type": "execute_result"
    }
   ],
   "source": [
    "raw_data.shape"
   ]
  },
  {
   "cell_type": "code",
   "execution_count": 24,
   "id": "35d749eb",
   "metadata": {
    "colab": {
     "base_uri": "https://localhost:8080/"
    },
    "id": "35d749eb",
    "outputId": "e6a031fa-1508-40d4-9ab6-cb7669ef5436"
   },
   "outputs": [
    {
     "name": "stdout",
     "output_type": "stream",
     "text": [
      "<class 'pandas.core.frame.DataFrame'>\n",
      "Int64Index: 228297 entries, 0 to 228317\n",
      "Data columns (total 64 columns):\n",
      " #   Column                      Non-Null Count   Dtype  \n",
      "---  ------                      --------------   -----  \n",
      " 0   repDate                     228297 non-null  object \n",
      " 1   status                      228297 non-null  object \n",
      " 2   policyID                    228297 non-null  int64  \n",
      " 3   policyNumber                228297 non-null  object \n",
      " 4   Core Policy Number          228297 non-null  object \n",
      " 5   UID                         228297 non-null  object \n",
      " 6   policyholderPostcode        228297 non-null  object \n",
      " 7   policyCreatedDate           228297 non-null  object \n",
      " 8   policyPremium               228297 non-null  float64\n",
      " 9   policyStartDate             228297 non-null  object \n",
      " 10  policyEndDate               228297 non-null  object \n",
      " 11  sourceWebName               228297 non-null  object \n",
      " 12  titleDescription            228297 non-null  object \n",
      " 13  paymentDescription          227578 non-null  object \n",
      " 14  BicycleCover                209706 non-null  object \n",
      " 15  IncludeCycleCover           228297 non-null  int64  \n",
      " 16  CycleValueRequested         228297 non-null  float64\n",
      " 17  CycleValueInsured           228297 non-null  int64  \n",
      " 18  PublicLiability             112718 non-null  float64\n",
      " 19  IncludePublicLiability      228297 non-null  int64  \n",
      " 20  Accessories                 228297 non-null  int64  \n",
      " 21  IncludeAccessories          228297 non-null  int64  \n",
      " 22  ReplacementHire             228297 non-null  int64  \n",
      " 23  IncludeReplacementHire      228297 non-null  int64  \n",
      " 24  RoadsideRecovery            54 non-null      object \n",
      " 25  IncludeRoadsideRecovery     228297 non-null  int64  \n",
      " 26  DeathCover                  227830 non-null  float64\n",
      " 27  Disablement                 227830 non-null  float64\n",
      " 28  IncludePersonalAccident     228297 non-null  int64  \n",
      " 29  CompetitiveUse              14784 non-null   object \n",
      " 30  IncludeCompetitiveUse       228297 non-null  int64  \n",
      " 31  EuropeanCover               23109 non-null   object \n",
      " 32  IncludeEuropeanCover        228297 non-null  int64  \n",
      " 33  WorldwideCover              5402 non-null    object \n",
      " 34  IncludeWorldwideCover       228297 non-null  int64  \n",
      " 35  ExcessWaiver                73659 non-null   object \n",
      " 36  IncludeExcessWaiver         228297 non-null  int64  \n",
      " 37  LegalExpenses               55744 non-null   object \n",
      " 38  IncludeLegalExpenses        228297 non-null  int64  \n",
      " 39  LossOfEarningsCoverage      17921 non-null   float64\n",
      " 40  PolicyholderAgeAtInception  228297 non-null  int64  \n",
      " 41  NumberOfCycles              228297 non-null  int64  \n",
      " 42  BMX                         228297 non-null  int64  \n",
      " 43  City                        228297 non-null  int64  \n",
      " 44  CycloCross                  228297 non-null  int64  \n",
      " 45  ElectricBike                228297 non-null  int64  \n",
      " 46  Folding                     228297 non-null  int64  \n",
      " 47  Hybrid                      228297 non-null  int64  \n",
      " 48  Mountain                    228297 non-null  int64  \n",
      " 49  Recumbent                   228297 non-null  int64  \n",
      " 50  RoadRacing                  228297 non-null  int64  \n",
      " 51  Touring                     228297 non-null  int64  \n",
      " 52  Trekking                    228297 non-null  int64  \n",
      " 53  Tricycle                    228297 non-null  int64  \n",
      " 54  Unicycle                    228297 non-null  int64  \n",
      " 55  Other                       228297 non-null  int64  \n",
      " 56  ElectricScooter             228297 non-null  int64  \n",
      " 57  No. Claims                  9789 non-null    float64\n",
      " 58  Paid                        9789 non-null    float64\n",
      " 59  Reserve                     9789 non-null    float64\n",
      " 60  Incurred                    9789 non-null    float64\n",
      " 61  month                       228297 non-null  int64  \n",
      " 62  lapse_pre_covid             228297 non-null  int64  \n",
      " 63  lapse_in_covid              228297 non-null  int64  \n",
      "dtypes: float64(10), int64(35), object(19)\n",
      "memory usage: 121.3+ MB\n"
     ]
    }
   ],
   "source": [
    "raw_data.info()"
   ]
  },
  {
   "cell_type": "code",
   "execution_count": 25,
   "id": "645d8680",
   "metadata": {
    "id": "645d8680"
   },
   "outputs": [],
   "source": [
    "raw_data=raw_data.drop(['policyNumber','Core Policy Number','UID','sourceWebName'],axis=1)\n",
    "raw_data=raw_data[raw_data.policyPremium!=0]"
   ]
  },
  {
   "cell_type": "code",
   "execution_count": 26,
   "id": "5542ffd0",
   "metadata": {
    "colab": {
     "base_uri": "https://localhost:8080/"
    },
    "id": "5542ffd0",
    "outputId": "9f9a115e-441c-4abd-97f3-ef63edf87f73"
   },
   "outputs": [
    {
     "data": {
      "text/plain": [
       "228167"
      ]
     },
     "execution_count": 26,
     "metadata": {},
     "output_type": "execute_result"
    }
   ],
   "source": [
    "raw_data.shape[0]"
   ]
  },
  {
   "cell_type": "code",
   "execution_count": 27,
   "id": "5ab929a1",
   "metadata": {
    "id": "5ab929a1"
   },
   "outputs": [],
   "source": [
    "postcode_map=pd.read_csv(r\"C:\\Users\\VIRAJ\\Desktop\\RIPE\\RIPE\\Data\\Postcode.csv\")\n",
    "postcode_map=postcode_map[['Postcode District','Group']]\n",
    "\n",
    "\n",
    "for index,row in raw_data.iterrows():\n",
    "         \n",
    "         raw_data.at[index,'postcode'] = raw_data['policyholderPostcode'][index].split(' ')[0]\n",
    "    \n",
    "# raw_data['policyholderPostcode'][x].split(' ')[0]\n",
    "# raw_data['postcode'] = split_func(raw_data['policyholderPostcode'])"
   ]
  },
  {
   "cell_type": "code",
   "execution_count": 28,
   "id": "8c6b231d",
   "metadata": {
    "id": "8c6b231d"
   },
   "outputs": [],
   "source": [
    "raw_data['postcode'] = raw_data['postcode'].astype(str)\n",
    "postcode_map['Postcode District'] = postcode_map['Postcode District'].astype(str)"
   ]
  },
  {
   "cell_type": "code",
   "execution_count": 29,
   "id": "ebab07bf",
   "metadata": {
    "colab": {
     "base_uri": "https://localhost:8080/"
    },
    "id": "ebab07bf",
    "outputId": "8a922c1b-e032-4037-a68b-c61a17c8f08f"
   },
   "outputs": [
    {
     "data": {
      "text/plain": [
       "0      W5\n",
       "1    CF24\n",
       "2    LE15\n",
       "3     BN1\n",
       "4    LA15\n",
       "Name: postcode, dtype: object"
      ]
     },
     "execution_count": 29,
     "metadata": {},
     "output_type": "execute_result"
    }
   ],
   "source": [
    "raw_data['postcode'].head()"
   ]
  },
  {
   "cell_type": "code",
   "execution_count": 30,
   "id": "d5be001d",
   "metadata": {
    "id": "d5be001d"
   },
   "outputs": [],
   "source": [
    "postcode_map = postcode_map.rename(columns={'Postcode District': 'postcode'})\n",
    "raw_data = pd.merge(raw_data, postcode_map,how=\"inner\",on=[\"postcode\", \"postcode\"])"
   ]
  },
  {
   "cell_type": "code",
   "execution_count": 31,
   "id": "3b55c2ce",
   "metadata": {
    "colab": {
     "base_uri": "https://localhost:8080/"
    },
    "id": "3b55c2ce",
    "outputId": "08754d15-d797-46b8-8727-ec4acd881669"
   },
   "outputs": [
    {
     "data": {
      "text/plain": [
       "False"
      ]
     },
     "execution_count": 31,
     "metadata": {},
     "output_type": "execute_result"
    }
   ],
   "source": [
    "raw_data = raw_data.rename(columns={'Group': 'risk'})\n",
    "raw_data['risk'].isnull().values.any()"
   ]
  },
  {
   "cell_type": "code",
   "execution_count": 32,
   "id": "4b4ba6a6",
   "metadata": {
    "id": "4b4ba6a6"
   },
   "outputs": [],
   "source": [
    "raw_data=raw_data.drop(['policyholderPostcode','postcode'],axis=1)"
   ]
  },
  {
   "cell_type": "code",
   "execution_count": 33,
   "id": "5655634b",
   "metadata": {
    "colab": {
     "base_uri": "https://localhost:8080/"
    },
    "id": "5655634b",
    "outputId": "38b09067-1c84-45fb-8b99-4916b96f762a"
   },
   "outputs": [
    {
     "data": {
      "text/plain": [
       "titleDescription\n",
       "Mr                  160919\n",
       "Miss                 25883\n",
       "Mrs                  17874\n",
       "Ms                    9205\n",
       "Dr                    5960\n",
       "Master                 730\n",
       "Professor              230\n",
       "Lady                    11\n",
       "Sir                      9\n",
       "Major                    1\n",
       "dtype: int64"
      ]
     },
     "execution_count": 33,
     "metadata": {},
     "output_type": "execute_result"
    }
   ],
   "source": [
    "raw_data.value_counts(['titleDescription'])"
   ]
  },
  {
   "cell_type": "code",
   "execution_count": 34,
   "id": "6293cc79",
   "metadata": {
    "id": "6293cc79"
   },
   "outputs": [],
   "source": [
    "raw_data = raw_data[(raw_data.titleDescription.isin([\"Mr\",\"mr\",\"Mrs\",\"mrs\",\"Ms\",\"ms\",\"Master\",\"master\",\"Lady\",\"lady\",\"Sir\",\"sir\"]))]"
   ]
  },
  {
   "cell_type": "code",
   "execution_count": 35,
   "id": "89621148",
   "metadata": {
    "colab": {
     "base_uri": "https://localhost:8080/"
    },
    "id": "89621148",
    "outputId": "8199bd8a-2ac6-4016-f9a0-e71b4fabf553"
   },
   "outputs": [
    {
     "data": {
      "text/plain": [
       "titleDescription\n",
       "Mr                  160919\n",
       "Mrs                  17874\n",
       "Ms                    9205\n",
       "Master                 730\n",
       "Lady                    11\n",
       "Sir                      9\n",
       "dtype: int64"
      ]
     },
     "execution_count": 35,
     "metadata": {},
     "output_type": "execute_result"
    }
   ],
   "source": [
    "raw_data.value_counts(['titleDescription'])"
   ]
  },
  {
   "cell_type": "code",
   "execution_count": 36,
   "id": "7cbd59bf",
   "metadata": {
    "id": "7cbd59bf"
   },
   "outputs": [],
   "source": [
    "raw_data['titleDescription']=raw_data['titleDescription'].str.lower()\n",
    "l=['mr','master','sir']\n",
    "for index,row in raw_data.iterrows():\n",
    "        if raw_data['titleDescription'][index] in l :\n",
    "             raw_data.at[index,'gender'] ='M'\n",
    "        else: \n",
    "             raw_data.at[index,'gender'] ='F'\n"
   ]
  },
  {
   "cell_type": "code",
   "execution_count": 37,
   "id": "6e5347f4",
   "metadata": {
    "colab": {
     "base_uri": "https://localhost:8080/"
    },
    "id": "6e5347f4",
    "outputId": "8cc2ceb9-b577-4066-ab06-494a1e1a0e29",
    "scrolled": true
   },
   "outputs": [
    {
     "data": {
      "text/plain": [
       "gender\n",
       "M         161658\n",
       "F          27090\n",
       "dtype: int64"
      ]
     },
     "execution_count": 37,
     "metadata": {},
     "output_type": "execute_result"
    }
   ],
   "source": [
    "raw_data.value_counts(['gender'])"
   ]
  },
  {
   "cell_type": "code",
   "execution_count": 38,
   "id": "a237ce99",
   "metadata": {},
   "outputs": [],
   "source": [
    "raw_data['gender'] = raw_data['gender'].apply(lambda x: 0 if x == 'F' else 1)"
   ]
  },
  {
   "cell_type": "code",
   "execution_count": 39,
   "id": "308a67bb",
   "metadata": {},
   "outputs": [
    {
     "data": {
      "text/plain": [
       "gender\n",
       "1         161658\n",
       "0          27090\n",
       "dtype: int64"
      ]
     },
     "execution_count": 39,
     "metadata": {},
     "output_type": "execute_result"
    }
   ],
   "source": [
    "raw_data.value_counts(['gender'])"
   ]
  },
  {
   "cell_type": "code",
   "execution_count": 40,
   "id": "93bf2840",
   "metadata": {},
   "outputs": [],
   "source": [
    "raw_data = raw_data.drop(['repDate','status','policyCreatedDate', 'policyStartDate', 'policyEndDate', 'paymentDescription'] ,axis=1)"
   ]
  },
  {
   "cell_type": "code",
   "execution_count": 41,
   "id": "f298c69d",
   "metadata": {},
   "outputs": [
    {
     "data": {
      "text/plain": [
       "Index(['policyID', 'policyPremium', 'titleDescription', 'BicycleCover',\n",
       "       'IncludeCycleCover', 'CycleValueRequested', 'CycleValueInsured',\n",
       "       'PublicLiability', 'IncludePublicLiability', 'Accessories',\n",
       "       'IncludeAccessories', 'ReplacementHire', 'IncludeReplacementHire',\n",
       "       'RoadsideRecovery', 'IncludeRoadsideRecovery', 'DeathCover',\n",
       "       'Disablement', 'IncludePersonalAccident', 'CompetitiveUse',\n",
       "       'IncludeCompetitiveUse', 'EuropeanCover', 'IncludeEuropeanCover',\n",
       "       'WorldwideCover', 'IncludeWorldwideCover', 'ExcessWaiver',\n",
       "       'IncludeExcessWaiver', 'LegalExpenses', 'IncludeLegalExpenses',\n",
       "       'LossOfEarningsCoverage', 'PolicyholderAgeAtInception',\n",
       "       'NumberOfCycles', 'BMX', 'City', 'CycloCross', 'ElectricBike',\n",
       "       'Folding', 'Hybrid', 'Mountain', 'Recumbent', 'RoadRacing', 'Touring',\n",
       "       'Trekking', 'Tricycle', 'Unicycle', 'Other', 'ElectricScooter',\n",
       "       'No. Claims', 'Paid', 'Reserve', 'Incurred', 'month', 'lapse_pre_covid',\n",
       "       'lapse_in_covid', 'risk', 'gender'],\n",
       "      dtype='object')"
      ]
     },
     "execution_count": 41,
     "metadata": {},
     "output_type": "execute_result"
    }
   ],
   "source": [
    "raw_data.columns"
   ]
  },
  {
   "cell_type": "code",
   "execution_count": 42,
   "id": "81b0e4d7",
   "metadata": {},
   "outputs": [],
   "source": [
    "raw_data.rename(columns = {'PolicyholderAgeAtInception':'Age'}, inplace = True)"
   ]
  },
  {
   "cell_type": "code",
   "execution_count": 43,
   "id": "fe60ecca",
   "metadata": {},
   "outputs": [],
   "source": [
    "raw_data = raw_data.drop(['policyID','Paid', 'Reserve', 'Incurred', 'month', 'lapse_pre_covid',\n",
    "       'lapse_in_covid'],axis=1)"
   ]
  },
  {
   "cell_type": "code",
   "execution_count": 44,
   "id": "349c314f",
   "metadata": {},
   "outputs": [
    {
     "data": {
      "text/plain": [
       "Index(['policyPremium', 'titleDescription', 'BicycleCover',\n",
       "       'IncludeCycleCover', 'CycleValueRequested', 'CycleValueInsured',\n",
       "       'PublicLiability', 'IncludePublicLiability', 'Accessories',\n",
       "       'IncludeAccessories', 'ReplacementHire', 'IncludeReplacementHire',\n",
       "       'RoadsideRecovery', 'IncludeRoadsideRecovery', 'DeathCover',\n",
       "       'Disablement', 'IncludePersonalAccident', 'CompetitiveUse',\n",
       "       'IncludeCompetitiveUse', 'EuropeanCover', 'IncludeEuropeanCover',\n",
       "       'WorldwideCover', 'IncludeWorldwideCover', 'ExcessWaiver',\n",
       "       'IncludeExcessWaiver', 'LegalExpenses', 'IncludeLegalExpenses',\n",
       "       'LossOfEarningsCoverage', 'Age', 'NumberOfCycles', 'BMX', 'City',\n",
       "       'CycloCross', 'ElectricBike', 'Folding', 'Hybrid', 'Mountain',\n",
       "       'Recumbent', 'RoadRacing', 'Touring', 'Trekking', 'Tricycle',\n",
       "       'Unicycle', 'Other', 'ElectricScooter', 'No. Claims', 'risk', 'gender'],\n",
       "      dtype='object')"
      ]
     },
     "execution_count": 44,
     "metadata": {},
     "output_type": "execute_result"
    }
   ],
   "source": [
    "raw_data.columns"
   ]
  },
  {
   "cell_type": "code",
   "execution_count": 45,
   "id": "ae524aba",
   "metadata": {},
   "outputs": [],
   "source": [
    "raw_data = raw_data.drop(['titleDescription'],axis=1)"
   ]
  },
  {
   "cell_type": "code",
   "execution_count": 46,
   "id": "a749d2d1",
   "metadata": {},
   "outputs": [
    {
     "name": "stdout",
     "output_type": "stream",
     "text": [
      "<class 'pandas.core.frame.DataFrame'>\n",
      "Int64Index: 188748 entries, 0 to 220821\n",
      "Data columns (total 47 columns):\n",
      " #   Column                   Non-Null Count   Dtype  \n",
      "---  ------                   --------------   -----  \n",
      " 0   policyPremium            188748 non-null  float64\n",
      " 1   BicycleCover             171981 non-null  object \n",
      " 2   IncludeCycleCover        188748 non-null  int64  \n",
      " 3   CycleValueRequested      188748 non-null  float64\n",
      " 4   CycleValueInsured        188748 non-null  int64  \n",
      " 5   PublicLiability          94643 non-null   float64\n",
      " 6   IncludePublicLiability   188748 non-null  int64  \n",
      " 7   Accessories              188748 non-null  int64  \n",
      " 8   IncludeAccessories       188748 non-null  int64  \n",
      " 9   ReplacementHire          188748 non-null  int64  \n",
      " 10  IncludeReplacementHire   188748 non-null  int64  \n",
      " 11  RoadsideRecovery         46 non-null      object \n",
      " 12  IncludeRoadsideRecovery  188748 non-null  int64  \n",
      " 13  DeathCover               188357 non-null  float64\n",
      " 14  Disablement              188357 non-null  float64\n",
      " 15  IncludePersonalAccident  188748 non-null  int64  \n",
      " 16  CompetitiveUse           12400 non-null   object \n",
      " 17  IncludeCompetitiveUse    188748 non-null  int64  \n",
      " 18  EuropeanCover            19872 non-null   object \n",
      " 19  IncludeEuropeanCover     188748 non-null  int64  \n",
      " 20  WorldwideCover           4588 non-null    object \n",
      " 21  IncludeWorldwideCover    188748 non-null  int64  \n",
      " 22  ExcessWaiver             60982 non-null   object \n",
      " 23  IncludeExcessWaiver      188748 non-null  int64  \n",
      " 24  LegalExpenses            46786 non-null   object \n",
      " 25  IncludeLegalExpenses     188748 non-null  int64  \n",
      " 26  LossOfEarningsCoverage   15843 non-null   float64\n",
      " 27  Age                      188748 non-null  int64  \n",
      " 28  NumberOfCycles           188748 non-null  int64  \n",
      " 29  BMX                      188748 non-null  int64  \n",
      " 30  City                     188748 non-null  int64  \n",
      " 31  CycloCross               188748 non-null  int64  \n",
      " 32  ElectricBike             188748 non-null  int64  \n",
      " 33  Folding                  188748 non-null  int64  \n",
      " 34  Hybrid                   188748 non-null  int64  \n",
      " 35  Mountain                 188748 non-null  int64  \n",
      " 36  Recumbent                188748 non-null  int64  \n",
      " 37  RoadRacing               188748 non-null  int64  \n",
      " 38  Touring                  188748 non-null  int64  \n",
      " 39  Trekking                 188748 non-null  int64  \n",
      " 40  Tricycle                 188748 non-null  int64  \n",
      " 41  Unicycle                 188748 non-null  int64  \n",
      " 42  Other                    188748 non-null  int64  \n",
      " 43  ElectricScooter          188748 non-null  int64  \n",
      " 44  No. Claims               7892 non-null    float64\n",
      " 45  risk                     188748 non-null  float64\n",
      " 46  gender                   188748 non-null  int64  \n",
      "dtypes: float64(8), int64(32), object(7)\n",
      "memory usage: 73.2+ MB\n"
     ]
    }
   ],
   "source": [
    "raw_data.info()"
   ]
  },
  {
   "cell_type": "code",
   "execution_count": 47,
   "id": "3cd7a358",
   "metadata": {},
   "outputs": [],
   "source": [
    "raw_data = raw_data.drop(['BicycleCover'],axis=1)"
   ]
  },
  {
   "cell_type": "code",
   "execution_count": 48,
   "id": "8a6b83e0",
   "metadata": {},
   "outputs": [],
   "source": [
    "raw_data = raw_data.drop(['CycleValueRequested'],axis=1)"
   ]
  },
  {
   "cell_type": "code",
   "execution_count": 49,
   "id": "433130ca",
   "metadata": {},
   "outputs": [],
   "source": [
    "raw_data['PublicLiability'].fillna(\"0\", inplace = True)"
   ]
  },
  {
   "cell_type": "code",
   "execution_count": 50,
   "id": "784b6d83",
   "metadata": {},
   "outputs": [
    {
     "data": {
      "text/plain": [
       "array([2000000.0, 1000000.0, '0', 5000000.0], dtype=object)"
      ]
     },
     "execution_count": 50,
     "metadata": {},
     "output_type": "execute_result"
    }
   ],
   "source": [
    "raw_data['PublicLiability'].unique()"
   ]
  },
  {
   "cell_type": "code",
   "execution_count": 51,
   "id": "21fa0608",
   "metadata": {},
   "outputs": [],
   "source": [
    "raw_data = raw_data.drop(['IncludeCycleCover','IncludePublicLiability','IncludeAccessories','IncludeReplacementHire','IncludeRoadsideRecovery'],axis=1)"
   ]
  },
  {
   "cell_type": "code",
   "execution_count": 52,
   "id": "79d56309",
   "metadata": {},
   "outputs": [
    {
     "data": {
      "text/html": [
       "<div><div id=d74f6162-8320-4d7f-9299-bdaac296ac2b style=\"display:none; background-color:#9D6CFF; color:white; width:200px; height:30px; padding-left:5px; border-radius:4px; flex-direction:row; justify-content:space-around; align-items:center;\" onmouseover=\"this.style.backgroundColor='#BA9BF8'\" onmouseout=\"this.style.backgroundColor='#9D6CFF'\" onclick=\"window.commands?.execute('create-mitosheet-from-dataframe-output');\">See Full Dataframe in Mito</div> <script> if (window.commands.hasCommand('create-mitosheet-from-dataframe-output')) document.getElementById('d74f6162-8320-4d7f-9299-bdaac296ac2b').style.display = 'flex' </script> <table border=\"1\" class=\"dataframe\">\n",
       "  <thead>\n",
       "    <tr style=\"text-align: right;\">\n",
       "      <th></th>\n",
       "      <th>policyPremium</th>\n",
       "      <th>CycleValueInsured</th>\n",
       "      <th>PublicLiability</th>\n",
       "      <th>Accessories</th>\n",
       "      <th>ReplacementHire</th>\n",
       "      <th>RoadsideRecovery</th>\n",
       "      <th>DeathCover</th>\n",
       "      <th>Disablement</th>\n",
       "      <th>IncludePersonalAccident</th>\n",
       "      <th>CompetitiveUse</th>\n",
       "      <th>...</th>\n",
       "      <th>RoadRacing</th>\n",
       "      <th>Touring</th>\n",
       "      <th>Trekking</th>\n",
       "      <th>Tricycle</th>\n",
       "      <th>Unicycle</th>\n",
       "      <th>Other</th>\n",
       "      <th>ElectricScooter</th>\n",
       "      <th>No. Claims</th>\n",
       "      <th>risk</th>\n",
       "      <th>gender</th>\n",
       "    </tr>\n",
       "  </thead>\n",
       "  <tbody>\n",
       "    <tr>\n",
       "      <th>0</th>\n",
       "      <td>16.2855</td>\n",
       "      <td>0</td>\n",
       "      <td>2000000.0</td>\n",
       "      <td>0</td>\n",
       "      <td>0</td>\n",
       "      <td>NaN</td>\n",
       "      <td>0.0</td>\n",
       "      <td>0.0</td>\n",
       "      <td>0</td>\n",
       "      <td>NaN</td>\n",
       "      <td>...</td>\n",
       "      <td>0</td>\n",
       "      <td>0</td>\n",
       "      <td>0</td>\n",
       "      <td>0</td>\n",
       "      <td>0</td>\n",
       "      <td>0</td>\n",
       "      <td>0</td>\n",
       "      <td>NaN</td>\n",
       "      <td>5.0</td>\n",
       "      <td>1</td>\n",
       "    </tr>\n",
       "    <tr>\n",
       "      <th>1</th>\n",
       "      <td>13.0284</td>\n",
       "      <td>0</td>\n",
       "      <td>2000000.0</td>\n",
       "      <td>0</td>\n",
       "      <td>0</td>\n",
       "      <td>NaN</td>\n",
       "      <td>0.0</td>\n",
       "      <td>0.0</td>\n",
       "      <td>0</td>\n",
       "      <td>NaN</td>\n",
       "      <td>...</td>\n",
       "      <td>0</td>\n",
       "      <td>0</td>\n",
       "      <td>0</td>\n",
       "      <td>0</td>\n",
       "      <td>0</td>\n",
       "      <td>0</td>\n",
       "      <td>0</td>\n",
       "      <td>NaN</td>\n",
       "      <td>5.0</td>\n",
       "      <td>1</td>\n",
       "    </tr>\n",
       "    <tr>\n",
       "      <th>2</th>\n",
       "      <td>75.2219</td>\n",
       "      <td>600</td>\n",
       "      <td>1000000.0</td>\n",
       "      <td>250</td>\n",
       "      <td>0</td>\n",
       "      <td>NaN</td>\n",
       "      <td>50000.0</td>\n",
       "      <td>50000.0</td>\n",
       "      <td>1</td>\n",
       "      <td>NaN</td>\n",
       "      <td>...</td>\n",
       "      <td>0</td>\n",
       "      <td>0</td>\n",
       "      <td>0</td>\n",
       "      <td>0</td>\n",
       "      <td>0</td>\n",
       "      <td>0</td>\n",
       "      <td>0</td>\n",
       "      <td>NaN</td>\n",
       "      <td>5.0</td>\n",
       "      <td>1</td>\n",
       "    </tr>\n",
       "    <tr>\n",
       "      <th>3</th>\n",
       "      <td>276.0000</td>\n",
       "      <td>3000</td>\n",
       "      <td>0</td>\n",
       "      <td>500</td>\n",
       "      <td>0</td>\n",
       "      <td>NaN</td>\n",
       "      <td>50000.0</td>\n",
       "      <td>50000.0</td>\n",
       "      <td>1</td>\n",
       "      <td>Yes</td>\n",
       "      <td>...</td>\n",
       "      <td>0</td>\n",
       "      <td>0</td>\n",
       "      <td>0</td>\n",
       "      <td>0</td>\n",
       "      <td>0</td>\n",
       "      <td>0</td>\n",
       "      <td>0</td>\n",
       "      <td>NaN</td>\n",
       "      <td>5.0</td>\n",
       "      <td>1</td>\n",
       "    </tr>\n",
       "    <tr>\n",
       "      <th>4</th>\n",
       "      <td>36.4795</td>\n",
       "      <td>600</td>\n",
       "      <td>0</td>\n",
       "      <td>0</td>\n",
       "      <td>0</td>\n",
       "      <td>NaN</td>\n",
       "      <td>0.0</td>\n",
       "      <td>0.0</td>\n",
       "      <td>0</td>\n",
       "      <td>NaN</td>\n",
       "      <td>...</td>\n",
       "      <td>1</td>\n",
       "      <td>0</td>\n",
       "      <td>0</td>\n",
       "      <td>0</td>\n",
       "      <td>0</td>\n",
       "      <td>0</td>\n",
       "      <td>0</td>\n",
       "      <td>1.0</td>\n",
       "      <td>5.0</td>\n",
       "      <td>1</td>\n",
       "    </tr>\n",
       "  </tbody>\n",
       "</table></div>"
      ],
      "text/plain": [
       "   policyPremium  CycleValueInsured PublicLiability  Accessories  \\\n",
       "0        16.2855                  0       2000000.0            0   \n",
       "1        13.0284                  0       2000000.0            0   \n",
       "2        75.2219                600       1000000.0          250   \n",
       "3       276.0000               3000               0          500   \n",
       "4        36.4795                600               0            0   \n",
       "\n",
       "   ReplacementHire RoadsideRecovery  DeathCover  Disablement  \\\n",
       "0                0              NaN         0.0          0.0   \n",
       "1                0              NaN         0.0          0.0   \n",
       "2                0              NaN     50000.0      50000.0   \n",
       "3                0              NaN     50000.0      50000.0   \n",
       "4                0              NaN         0.0          0.0   \n",
       "\n",
       "   IncludePersonalAccident CompetitiveUse  ...  RoadRacing Touring  Trekking  \\\n",
       "0                        0            NaN  ...           0       0         0   \n",
       "1                        0            NaN  ...           0       0         0   \n",
       "2                        1            NaN  ...           0       0         0   \n",
       "3                        1            Yes  ...           0       0         0   \n",
       "4                        0            NaN  ...           1       0         0   \n",
       "\n",
       "  Tricycle  Unicycle Other  ElectricScooter No. Claims  risk  gender  \n",
       "0        0         0     0                0        NaN   5.0       1  \n",
       "1        0         0     0                0        NaN   5.0       1  \n",
       "2        0         0     0                0        NaN   5.0       1  \n",
       "3        0         0     0                0        NaN   5.0       1  \n",
       "4        0         0     0                0        1.0   5.0       1  \n",
       "\n",
       "[5 rows x 40 columns]"
      ]
     },
     "execution_count": 52,
     "metadata": {},
     "output_type": "execute_result"
    }
   ],
   "source": [
    "raw_data.head()"
   ]
  },
  {
   "cell_type": "code",
   "execution_count": 53,
   "id": "09598bb2",
   "metadata": {},
   "outputs": [],
   "source": [
    "raw_data.drop('IncludePersonalAccident', axis = 1, inplace=True )"
   ]
  },
  {
   "cell_type": "code",
   "execution_count": 54,
   "id": "089aab0a",
   "metadata": {},
   "outputs": [],
   "source": [
    "raw_data.drop(['CompetitiveUse', 'EuropeanCover', 'WorldwideCover', 'ExcessWaiver', 'LegalExpenses'], axis = 1, inplace=True )"
   ]
  },
  {
   "cell_type": "code",
   "execution_count": 55,
   "id": "d0eb31f7",
   "metadata": {},
   "outputs": [
    {
     "data": {
      "text/plain": [
       "Index(['policyPremium', 'CycleValueInsured', 'PublicLiability', 'Accessories',\n",
       "       'ReplacementHire', 'RoadsideRecovery', 'DeathCover', 'Disablement',\n",
       "       'IncludeCompetitiveUse', 'IncludeEuropeanCover',\n",
       "       'IncludeWorldwideCover', 'IncludeExcessWaiver', 'IncludeLegalExpenses',\n",
       "       'LossOfEarningsCoverage', 'Age', 'NumberOfCycles', 'BMX', 'City',\n",
       "       'CycloCross', 'ElectricBike', 'Folding', 'Hybrid', 'Mountain',\n",
       "       'Recumbent', 'RoadRacing', 'Touring', 'Trekking', 'Tricycle',\n",
       "       'Unicycle', 'Other', 'ElectricScooter', 'No. Claims', 'risk', 'gender'],\n",
       "      dtype='object')"
      ]
     },
     "execution_count": 55,
     "metadata": {},
     "output_type": "execute_result"
    }
   ],
   "source": [
    "raw_data.columns"
   ]
  },
  {
   "cell_type": "code",
   "execution_count": 56,
   "id": "527d6fb6",
   "metadata": {},
   "outputs": [],
   "source": [
    "raw_data['LossOfEarningsCoverage'].fillna(\"0\", inplace = True)"
   ]
  },
  {
   "cell_type": "code",
   "execution_count": 57,
   "id": "e2171560",
   "metadata": {},
   "outputs": [],
   "source": [
    "raw_data['No. Claims'].fillna(\"0\", inplace = True)"
   ]
  },
  {
   "cell_type": "code",
   "execution_count": 58,
   "id": "6ffced95",
   "metadata": {},
   "outputs": [],
   "source": [
    "raw_data = raw_data.dropna(subset=['DeathCover'])"
   ]
  },
  {
   "cell_type": "code",
   "execution_count": 59,
   "id": "a2d33ae9",
   "metadata": {},
   "outputs": [],
   "source": [
    "raw_data['RoadsideRecovery'].fillna(\"0\", inplace = True)"
   ]
  },
  {
   "cell_type": "code",
   "execution_count": 60,
   "id": "de3bf247",
   "metadata": {},
   "outputs": [
    {
     "data": {
      "text/plain": [
       "policyPremium             0\n",
       "CycleValueInsured         0\n",
       "PublicLiability           0\n",
       "Accessories               0\n",
       "ReplacementHire           0\n",
       "RoadsideRecovery          0\n",
       "DeathCover                0\n",
       "Disablement               0\n",
       "IncludeCompetitiveUse     0\n",
       "IncludeEuropeanCover      0\n",
       "IncludeWorldwideCover     0\n",
       "IncludeExcessWaiver       0\n",
       "IncludeLegalExpenses      0\n",
       "LossOfEarningsCoverage    0\n",
       "Age                       0\n",
       "NumberOfCycles            0\n",
       "BMX                       0\n",
       "City                      0\n",
       "CycloCross                0\n",
       "ElectricBike              0\n",
       "Folding                   0\n",
       "Hybrid                    0\n",
       "Mountain                  0\n",
       "Recumbent                 0\n",
       "RoadRacing                0\n",
       "Touring                   0\n",
       "Trekking                  0\n",
       "Tricycle                  0\n",
       "Unicycle                  0\n",
       "Other                     0\n",
       "ElectricScooter           0\n",
       "No. Claims                0\n",
       "risk                      0\n",
       "gender                    0\n",
       "dtype: int64"
      ]
     },
     "execution_count": 60,
     "metadata": {},
     "output_type": "execute_result"
    }
   ],
   "source": [
    "raw_data.isnull().sum()"
   ]
  },
  {
   "cell_type": "code",
   "execution_count": 61,
   "id": "d27ff10f",
   "metadata": {},
   "outputs": [],
   "source": [
    "raw_data['RoadsideRecovery'] = raw_data['RoadsideRecovery'].apply(lambda x: 1 if x == 'Yes' else 0)"
   ]
  },
  {
   "cell_type": "code",
   "execution_count": 62,
   "id": "0589efe2",
   "metadata": {},
   "outputs": [
    {
     "data": {
      "text/plain": [
       "{int64: ['CycleValueInsured', 'Accessories', 'ReplacementHire', 'RoadsideRecovery', 'IncludeCompetitiveUse', 'IncludeEuropeanCover', 'IncludeWorldwideCover', 'IncludeExcessWaiver', 'IncludeLegalExpenses', 'Age', 'NumberOfCycles', 'BMX', 'City', 'CycloCross', 'ElectricBike', 'Folding', 'Hybrid', 'Mountain', 'Recumbent', 'RoadRacing', 'Touring', 'Trekking', 'Tricycle', 'Unicycle', 'Other', 'ElectricScooter', 'gender'], float64: ['policyPremium', 'DeathCover', 'Disablement', 'risk'], object: ['PublicLiability', 'LossOfEarningsCoverage', 'No. Claims']}"
      ]
     },
     "execution_count": 62,
     "metadata": {},
     "output_type": "execute_result"
    }
   ],
   "source": [
    "# Getting list of columns with their data types\n",
    "\n",
    "g = raw_data.columns.to_series().groupby(raw_data.dtypes).groups\n",
    "g\n"
   ]
  },
  {
   "cell_type": "code",
   "execution_count": 63,
   "id": "03210ef7",
   "metadata": {},
   "outputs": [],
   "source": [
    "raw_data[['PublicLiability', 'LossOfEarningsCoverage', 'No. Claims']] = raw_data[['PublicLiability', 'LossOfEarningsCoverage', 'No. Claims']].apply(pd.to_numeric)"
   ]
  },
  {
   "cell_type": "code",
   "execution_count": 64,
   "id": "967ea0eb",
   "metadata": {},
   "outputs": [],
   "source": [
    "# df[[\"a\", \"b\"]] = df[[\"a\", \"b\"]].apply(pd.to_numeric)"
   ]
  },
  {
   "cell_type": "code",
   "execution_count": 65,
   "id": "2a1d811f",
   "metadata": {},
   "outputs": [
    {
     "name": "stdout",
     "output_type": "stream",
     "text": [
      "<class 'pandas.core.frame.DataFrame'>\n",
      "Int64Index: 188357 entries, 0 to 220821\n",
      "Data columns (total 34 columns):\n",
      " #   Column                  Non-Null Count   Dtype  \n",
      "---  ------                  --------------   -----  \n",
      " 0   policyPremium           188357 non-null  float64\n",
      " 1   CycleValueInsured       188357 non-null  int64  \n",
      " 2   PublicLiability         188357 non-null  float64\n",
      " 3   Accessories             188357 non-null  int64  \n",
      " 4   ReplacementHire         188357 non-null  int64  \n",
      " 5   RoadsideRecovery        188357 non-null  int64  \n",
      " 6   DeathCover              188357 non-null  float64\n",
      " 7   Disablement             188357 non-null  float64\n",
      " 8   IncludeCompetitiveUse   188357 non-null  int64  \n",
      " 9   IncludeEuropeanCover    188357 non-null  int64  \n",
      " 10  IncludeWorldwideCover   188357 non-null  int64  \n",
      " 11  IncludeExcessWaiver     188357 non-null  int64  \n",
      " 12  IncludeLegalExpenses    188357 non-null  int64  \n",
      " 13  LossOfEarningsCoverage  188357 non-null  float64\n",
      " 14  Age                     188357 non-null  int64  \n",
      " 15  NumberOfCycles          188357 non-null  int64  \n",
      " 16  BMX                     188357 non-null  int64  \n",
      " 17  City                    188357 non-null  int64  \n",
      " 18  CycloCross              188357 non-null  int64  \n",
      " 19  ElectricBike            188357 non-null  int64  \n",
      " 20  Folding                 188357 non-null  int64  \n",
      " 21  Hybrid                  188357 non-null  int64  \n",
      " 22  Mountain                188357 non-null  int64  \n",
      " 23  Recumbent               188357 non-null  int64  \n",
      " 24  RoadRacing              188357 non-null  int64  \n",
      " 25  Touring                 188357 non-null  int64  \n",
      " 26  Trekking                188357 non-null  int64  \n",
      " 27  Tricycle                188357 non-null  int64  \n",
      " 28  Unicycle                188357 non-null  int64  \n",
      " 29  Other                   188357 non-null  int64  \n",
      " 30  ElectricScooter         188357 non-null  int64  \n",
      " 31  No. Claims              188357 non-null  float64\n",
      " 32  risk                    188357 non-null  float64\n",
      " 33  gender                  188357 non-null  int64  \n",
      "dtypes: float64(7), int64(27)\n",
      "memory usage: 50.3 MB\n"
     ]
    }
   ],
   "source": [
    "raw_data.info()"
   ]
  },
  {
   "cell_type": "code",
   "execution_count": null,
   "id": "2967e5a4",
   "metadata": {},
   "outputs": [],
   "source": []
  },
  {
   "cell_type": "markdown",
   "id": "84b1d23b",
   "metadata": {},
   "source": [
    "# Train and Test Datasets"
   ]
  },
  {
   "cell_type": "code",
   "execution_count": 66,
   "id": "fce2e505",
   "metadata": {},
   "outputs": [],
   "source": [
    "X= raw_data.drop(columns=['policyPremium'])\n",
    "y= raw_data['policyPremium']"
   ]
  },
  {
   "cell_type": "code",
   "execution_count": 67,
   "id": "caea60e6",
   "metadata": {},
   "outputs": [
    {
     "name": "stdout",
     "output_type": "stream",
     "text": [
      "(188357, 33)\n",
      "(188357,)\n"
     ]
    }
   ],
   "source": [
    "print(X.shape)\n",
    "print(y.shape)"
   ]
  },
  {
   "cell_type": "code",
   "execution_count": 68,
   "id": "42f17326",
   "metadata": {},
   "outputs": [],
   "source": [
    "X = np.array(X).astype('float32')\n",
    "y = np.array(y).astype('float32')"
   ]
  },
  {
   "cell_type": "code",
   "execution_count": 69,
   "id": "e49b92cd",
   "metadata": {},
   "outputs": [
    {
     "data": {
      "text/plain": [
       "array([[ 16.2855],\n",
       "       [ 13.0284],\n",
       "       [ 75.2219],\n",
       "       ...,\n",
       "       [ 36.82  ],\n",
       "       [264.29  ],\n",
       "       [195.26  ]], dtype=float32)"
      ]
     },
     "execution_count": 69,
     "metadata": {},
     "output_type": "execute_result"
    }
   ],
   "source": [
    "y = y.reshape(-1,1)\n",
    "y"
   ]
  },
  {
   "cell_type": "code",
   "execution_count": 70,
   "id": "49658eb0",
   "metadata": {},
   "outputs": [
    {
     "name": "stdout",
     "output_type": "stream",
     "text": [
      "(188357, 33)\n",
      "(188357, 1)\n"
     ]
    }
   ],
   "source": [
    "print(X.shape)\n",
    "print(y.shape)"
   ]
  },
  {
   "cell_type": "markdown",
   "id": "fc9a5ad3",
   "metadata": {},
   "source": [
    "# Scaling the data before feeding the model"
   ]
  },
  {
   "cell_type": "code",
   "execution_count": 71,
   "id": "72c726f0",
   "metadata": {},
   "outputs": [],
   "source": [
    "from sklearn.preprocessing import StandardScaler, MinMaxScaler\n",
    "\n",
    "scaler_x = StandardScaler()\n",
    "X = scaler_x.fit_transform(X)\n",
    "\n",
    "scaler_y = StandardScaler()\n",
    "y = scaler_y.fit_transform(y)"
   ]
  },
  {
   "cell_type": "markdown",
   "id": "a0a34948",
   "metadata": {},
   "source": [
    "# Splitting the Data"
   ]
  },
  {
   "cell_type": "code",
   "execution_count": 72,
   "id": "ae5a70b9",
   "metadata": {},
   "outputs": [],
   "source": [
    "from sklearn.model_selection import train_test_split\n",
    "\n",
    "X_train, X_test, y_train, y_test = train_test_split(X,y, test_size = 0.2)"
   ]
  },
  {
   "cell_type": "code",
   "execution_count": 73,
   "id": "20825c78",
   "metadata": {},
   "outputs": [
    {
     "data": {
      "text/plain": [
       "(150685, 33)"
      ]
     },
     "execution_count": 73,
     "metadata": {},
     "output_type": "execute_result"
    }
   ],
   "source": [
    "X_train.shape"
   ]
  },
  {
   "cell_type": "code",
   "execution_count": 74,
   "id": "9549c38b",
   "metadata": {},
   "outputs": [
    {
     "data": {
      "text/plain": [
       "0.7999968145595863"
      ]
     },
     "execution_count": 74,
     "metadata": {},
     "output_type": "execute_result"
    }
   ],
   "source": [
    "X_train.shape[0]/len(raw_data)"
   ]
  },
  {
   "cell_type": "markdown",
   "id": "72ef2ba9",
   "metadata": {},
   "source": [
    "# Modelling"
   ]
  },
  {
   "cell_type": "code",
   "execution_count": 75,
   "id": "ddfc14a8",
   "metadata": {},
   "outputs": [
    {
     "data": {
      "text/plain": [
       "LinearRegression()"
      ]
     },
     "execution_count": 75,
     "metadata": {},
     "output_type": "execute_result"
    }
   ],
   "source": [
    "# Using the Linear Regression Model\n",
    "\n",
    "from sklearn.linear_model import LinearRegression\n",
    "from sklearn.metrics import mean_squared_error, accuracy_score\n",
    "\n",
    "regression_model_sklearn = LinearRegression()\n",
    "regression_model_sklearn.fit(X_train, y_train)"
   ]
  },
  {
   "cell_type": "code",
   "execution_count": 76,
   "id": "7482bf67",
   "metadata": {},
   "outputs": [
    {
     "data": {
      "text/plain": [
       "0.9332337443945568"
      ]
     },
     "execution_count": 76,
     "metadata": {},
     "output_type": "execute_result"
    }
   ],
   "source": [
    "regression_model_sklearn_accuracy = regression_model_sklearn.score(X_test, y_test)\n",
    "regression_model_sklearn_accuracy"
   ]
  },
  {
   "cell_type": "code",
   "execution_count": 77,
   "id": "1f9d7e44",
   "metadata": {},
   "outputs": [],
   "source": [
    "y_predict = regression_model_sklearn.predict(X_test)"
   ]
  },
  {
   "cell_type": "code",
   "execution_count": 78,
   "id": "27259d16",
   "metadata": {},
   "outputs": [
    {
     "data": {
      "text/plain": [
       "array([[-0.6473213 ],\n",
       "       [-0.6953636 ],\n",
       "       [ 1.5394578 ],\n",
       "       ...,\n",
       "       [-0.49021676],\n",
       "       [ 1.3352647 ],\n",
       "       [-0.6648689 ]], dtype=float32)"
      ]
     },
     "execution_count": 78,
     "metadata": {},
     "output_type": "execute_result"
    }
   ],
   "source": [
    "y_predict"
   ]
  },
  {
   "cell_type": "code",
   "execution_count": 79,
   "id": "f8cda3bd",
   "metadata": {},
   "outputs": [],
   "source": [
    "y_predict_orig = scaler_y.inverse_transform(y_predict)\n",
    "y_test_orig = scaler_y.inverse_transform(y_test)"
   ]
  },
  {
   "cell_type": "code",
   "execution_count": 80,
   "id": "3c3d1143",
   "metadata": {},
   "outputs": [
    {
     "data": {
      "text/plain": [
       "37672"
      ]
     },
     "execution_count": 80,
     "metadata": {},
     "output_type": "execute_result"
    }
   ],
   "source": [
    "k= X_test.shape[1]\n",
    "n= len(X_test)\n",
    "n"
   ]
  },
  {
   "cell_type": "code",
   "execution_count": 81,
   "id": "f488ff0f",
   "metadata": {},
   "outputs": [],
   "source": [
    "from sklearn.metrics import r2_score, mean_squared_error, mean_absolute_error\n",
    "from math import sqrt\n",
    "\n",
    "RMSE = float(format(np.sqrt(mean_squared_error(y_test_orig, y_predict_orig)), '.3f'))\n",
    "MSE = mean_squared_error(y_test_orig, y_predict_orig)\n",
    "MAE = mean_absolute_error(y_test_orig, y_predict_orig)\n",
    "r2 = r2_score(y_test_orig, y_predict_orig)\n",
    "adj_r2 = 1- r2*(n-1)/(n-k-1)"
   ]
  },
  {
   "cell_type": "code",
   "execution_count": 82,
   "id": "361622ee",
   "metadata": {},
   "outputs": [
    {
     "name": "stdout",
     "output_type": "stream",
     "text": [
      "RMSE = 27.293 \n",
      "MSE = 744.9133 \n",
      "MAE = 14.964919 \n",
      "r2 = 0.933233745422449 \n",
      "Adjusted_r2 = 0.06594801998488031\n"
     ]
    }
   ],
   "source": [
    "print('RMSE =',RMSE, '\\nMSE =', MSE, '\\nMAE =',MAE, '\\nr2 =', r2, '\\nAdjusted_r2 =', adj_r2)"
   ]
  },
  {
   "cell_type": "code",
   "execution_count": 83,
   "id": "75c70c9f",
   "metadata": {},
   "outputs": [],
   "source": [
    "model_from_rawdata = regression_model_sklearn"
   ]
  },
  {
   "cell_type": "markdown",
   "id": "c03f3873",
   "metadata": {},
   "source": [
    "# Saving the Model using Pickle\n",
    "To save the model all we need to do is pass the model object into the dump() function of Pickle. This will serialize the object and convert it into a “byte stream” that we can save as a file called model.pkl. You can then store, or commit to Git, this model and run it on unseen test data without the need to re-train the model again from scratch."
   ]
  },
  {
   "cell_type": "code",
   "execution_count": 84,
   "id": "e902b81b",
   "metadata": {},
   "outputs": [],
   "source": [
    "import pickle\n",
    "pickle.dump(model_from_rawdata, open('model_from_rawdata.pkl', 'wb'))"
   ]
  },
  {
   "cell_type": "markdown",
   "id": "6cfbcb9d",
   "metadata": {},
   "source": [
    "# Loading the Model using Pickle\n",
    "To load a saved model, all you need to do is pass the “pickled” model into the Pickle load() function and it will be deserialized. By assigning this back to a model object, you can then run your original model’s predict() function, pass in some test data and get back an array of predictions."
   ]
  },
  {
   "cell_type": "code",
   "execution_count": 85,
   "id": "feabf5df",
   "metadata": {},
   "outputs": [
    {
     "data": {
      "text/plain": [
       "array([[-0.6473213 ],\n",
       "       [-0.6953636 ],\n",
       "       [ 1.5394578 ],\n",
       "       ...,\n",
       "       [-0.49021676],\n",
       "       [ 1.3352647 ],\n",
       "       [-0.6648689 ]], dtype=float32)"
      ]
     },
     "execution_count": 85,
     "metadata": {},
     "output_type": "execute_result"
    }
   ],
   "source": [
    "pickled_model_from_rawdata = pickle.load(open('model_from_rawdata.pkl', 'rb'))\n",
    "pickled_model_from_rawdata.predict(X_test)"
   ]
  },
  {
   "cell_type": "markdown",
   "id": "ec017566",
   "metadata": {},
   "source": [
    "# Observing the Predicted Premium Values"
   ]
  },
  {
   "cell_type": "code",
   "execution_count": 86,
   "id": "77b1d21e",
   "metadata": {},
   "outputs": [
    {
     "data": {
      "text/plain": [
       "array([[ 42.69245 ],\n",
       "       [ 37.57843 ],\n",
       "       [275.4714  ],\n",
       "       ...,\n",
       "       [ 59.415966],\n",
       "       [253.73541 ],\n",
       "       [ 40.82454 ]], dtype=float32)"
      ]
     },
     "execution_count": 86,
     "metadata": {},
     "output_type": "execute_result"
    }
   ],
   "source": [
    "y_predict_orig"
   ]
  },
  {
   "cell_type": "code",
   "execution_count": 87,
   "id": "d15e3fc1",
   "metadata": {},
   "outputs": [
    {
     "data": {
      "application/javascript": [
       "\n",
       "        if (window._pyforest_update_imports_cell) { window._pyforest_update_imports_cell('import matplotlib.pyplot as plt'); }\n",
       "    "
      ],
      "text/plain": [
       "<IPython.core.display.Javascript object>"
      ]
     },
     "metadata": {},
     "output_type": "display_data"
    },
    {
     "data": {
      "application/javascript": [
       "\n",
       "        if (window._pyforest_update_imports_cell) { window._pyforest_update_imports_cell('import matplotlib.pyplot as plt'); }\n",
       "    "
      ],
      "text/plain": [
       "<IPython.core.display.Javascript object>"
      ]
     },
     "metadata": {},
     "output_type": "display_data"
    },
    {
     "data": {
      "application/javascript": [
       "\n",
       "        if (window._pyforest_update_imports_cell) { window._pyforest_update_imports_cell('import matplotlib.pyplot as plt'); }\n",
       "    "
      ],
      "text/plain": [
       "<IPython.core.display.Javascript object>"
      ]
     },
     "metadata": {},
     "output_type": "display_data"
    },
    {
     "data": {
      "application/javascript": [
       "\n",
       "        if (window._pyforest_update_imports_cell) { window._pyforest_update_imports_cell('import matplotlib.pyplot as plt'); }\n",
       "    "
      ],
      "text/plain": [
       "<IPython.core.display.Javascript object>"
      ]
     },
     "metadata": {},
     "output_type": "display_data"
    },
    {
     "data": {
      "application/javascript": [
       "\n",
       "        if (window._pyforest_update_imports_cell) { window._pyforest_update_imports_cell('import matplotlib.pyplot as plt'); }\n",
       "    "
      ],
      "text/plain": [
       "<IPython.core.display.Javascript object>"
      ]
     },
     "metadata": {},
     "output_type": "display_data"
    },
    {
     "data": {
      "application/javascript": [
       "\n",
       "        if (window._pyforest_update_imports_cell) { window._pyforest_update_imports_cell('import matplotlib.pyplot as plt'); }\n",
       "    "
      ],
      "text/plain": [
       "<IPython.core.display.Javascript object>"
      ]
     },
     "metadata": {},
     "output_type": "display_data"
    },
    {
     "data": {
      "application/javascript": [
       "\n",
       "        if (window._pyforest_update_imports_cell) { window._pyforest_update_imports_cell('import matplotlib.pyplot as plt'); }\n",
       "    "
      ],
      "text/plain": [
       "<IPython.core.display.Javascript object>"
      ]
     },
     "metadata": {},
     "output_type": "display_data"
    },
    {
     "data": {
      "image/png": "[encoded data removed]",
      "text/plain": [
       "<Figure size 720x720 with 1 Axes>"
      ]
     },
     "metadata": {
      "needs_background": "light"
     },
     "output_type": "display_data"
    }
   ],
   "source": [
    "plt.figure(figsize=(10,10))\n",
    "plt.scatter(y_test_orig, y_predict_orig, c='crimson')\n",
    "#plt.yscale('log')\n",
    "#plt.xscale('log')\n",
    "\n",
    "p1 = max(max(y_predict_orig), max(y_test_orig))\n",
    "p2 = min(min(y_predict_orig), min(y_test_orig))\n",
    "plt.plot([p1, p2], [p1, p2], 'b-')\n",
    "plt.xlabel('True Values', fontsize=15)\n",
    "plt.ylabel('Predictions', fontsize=15)\n",
    "plt.axis('equal')\n",
    "plt.show()"
   ]
  },
  {
   "cell_type": "code",
   "execution_count": 90,
   "id": "50e1f24d",
   "metadata": {},
   "outputs": [
    {
     "data": {
      "text/plain": [
       "array([-0.62758684,  0.22398756,  0.5990803 , -0.17530954, -0.01219328,\n",
       "        0.10388557,  0.10388557, -0.2638804 , -0.3426292 , -0.15775946,\n",
       "       -0.690373  , -0.57487154, -0.2836906 , -1.2298739 , -0.11911796,\n",
       "       -0.05797888, -0.14504294, -0.17381558, -0.3584225 , -0.12426796,\n",
       "        2.0599325 , -0.46174502, -0.03541909, -0.67662257, -0.12109213,\n",
       "       -0.04499818, -0.03781774, -0.01678787, -0.15992609, -0.06625198,\n",
       "       -0.20152967, -0.82282716,  0.40945876], dtype=float32)"
      ]
     },
     "execution_count": 90,
     "metadata": {},
     "output_type": "execute_result"
    }
   ],
   "source": [
    "X_test"
   ]
  },
  {
   "cell_type": "code",
   "execution_count": 95,
   "id": "d45b3e44",
   "metadata": {},
   "outputs": [],
   "source": [
    "sample = X_test[0].reshape(1,-1)"
   ]
  },
  {
   "cell_type": "code",
   "execution_count": 96,
   "id": "efee45ab",
   "metadata": {},
   "outputs": [
    {
     "ename": "ValueError",
     "evalue": "Found array with dim 3. Estimator expected <= 2.",
     "output_type": "error",
     "traceback": [
      "\u001b[1;31m---------------------------------------------------------------------------\u001b[0m",
      "\u001b[1;31mValueError\u001b[0m                                Traceback (most recent call last)",
      "\u001b[1;32m~\\AppData\\Local\\Temp/ipykernel_23932/682360919.py\u001b[0m in \u001b[0;36m<cell line: 1>\u001b[1;34m()\u001b[0m\n\u001b[1;32m----> 1\u001b[1;33m \u001b[0mpickled_model_from_rawdata\u001b[0m\u001b[1;33m.\u001b[0m\u001b[0mpredict\u001b[0m\u001b[1;33m(\u001b[0m\u001b[1;33m[\u001b[0m\u001b[0msample\u001b[0m\u001b[1;33m]\u001b[0m\u001b[1;33m)\u001b[0m\u001b[1;33m\u001b[0m\u001b[1;33m\u001b[0m\u001b[0m\n\u001b[0m",
      "\u001b[1;32m~\\anaconda3\\lib\\site-packages\\sklearn\\linear_model\\_base.py\u001b[0m in \u001b[0;36mpredict\u001b[1;34m(self, X)\u001b[0m\n\u001b[0;32m    360\u001b[0m             \u001b[0mReturns\u001b[0m \u001b[0mpredicted\u001b[0m \u001b[0mvalues\u001b[0m\u001b[1;33m.\u001b[0m\u001b[1;33m\u001b[0m\u001b[1;33m\u001b[0m\u001b[0m\n\u001b[0;32m    361\u001b[0m         \"\"\"\n\u001b[1;32m--> 362\u001b[1;33m         \u001b[1;32mreturn\u001b[0m \u001b[0mself\u001b[0m\u001b[1;33m.\u001b[0m\u001b[0m_decision_function\u001b[0m\u001b[1;33m(\u001b[0m\u001b[0mX\u001b[0m\u001b[1;33m)\u001b[0m\u001b[1;33m\u001b[0m\u001b[1;33m\u001b[0m\u001b[0m\n\u001b[0m\u001b[0;32m    363\u001b[0m \u001b[1;33m\u001b[0m\u001b[0m\n\u001b[0;32m    364\u001b[0m     \u001b[0m_preprocess_data\u001b[0m \u001b[1;33m=\u001b[0m \u001b[0mstaticmethod\u001b[0m\u001b[1;33m(\u001b[0m\u001b[0m_preprocess_data\u001b[0m\u001b[1;33m)\u001b[0m\u001b[1;33m\u001b[0m\u001b[1;33m\u001b[0m\u001b[0m\n",
      "\u001b[1;32m~\\anaconda3\\lib\\site-packages\\sklearn\\linear_model\\_base.py\u001b[0m in \u001b[0;36m_decision_function\u001b[1;34m(self, X)\u001b[0m\n\u001b[0;32m    343\u001b[0m         \u001b[0mcheck_is_fitted\u001b[0m\u001b[1;33m(\u001b[0m\u001b[0mself\u001b[0m\u001b[1;33m)\u001b[0m\u001b[1;33m\u001b[0m\u001b[1;33m\u001b[0m\u001b[0m\n\u001b[0;32m    344\u001b[0m \u001b[1;33m\u001b[0m\u001b[0m\n\u001b[1;32m--> 345\u001b[1;33m         \u001b[0mX\u001b[0m \u001b[1;33m=\u001b[0m \u001b[0mself\u001b[0m\u001b[1;33m.\u001b[0m\u001b[0m_validate_data\u001b[0m\u001b[1;33m(\u001b[0m\u001b[0mX\u001b[0m\u001b[1;33m,\u001b[0m \u001b[0maccept_sparse\u001b[0m\u001b[1;33m=\u001b[0m\u001b[1;33m[\u001b[0m\u001b[1;34m\"csr\"\u001b[0m\u001b[1;33m,\u001b[0m \u001b[1;34m\"csc\"\u001b[0m\u001b[1;33m,\u001b[0m \u001b[1;34m\"coo\"\u001b[0m\u001b[1;33m]\u001b[0m\u001b[1;33m,\u001b[0m \u001b[0mreset\u001b[0m\u001b[1;33m=\u001b[0m\u001b[1;32mFalse\u001b[0m\u001b[1;33m)\u001b[0m\u001b[1;33m\u001b[0m\u001b[1;33m\u001b[0m\u001b[0m\n\u001b[0m\u001b[0;32m    346\u001b[0m         \u001b[1;32mreturn\u001b[0m \u001b[0msafe_sparse_dot\u001b[0m\u001b[1;33m(\u001b[0m\u001b[0mX\u001b[0m\u001b[1;33m,\u001b[0m \u001b[0mself\u001b[0m\u001b[1;33m.\u001b[0m\u001b[0mcoef_\u001b[0m\u001b[1;33m.\u001b[0m\u001b[0mT\u001b[0m\u001b[1;33m,\u001b[0m \u001b[0mdense_output\u001b[0m\u001b[1;33m=\u001b[0m\u001b[1;32mTrue\u001b[0m\u001b[1;33m)\u001b[0m \u001b[1;33m+\u001b[0m \u001b[0mself\u001b[0m\u001b[1;33m.\u001b[0m\u001b[0mintercept_\u001b[0m\u001b[1;33m\u001b[0m\u001b[1;33m\u001b[0m\u001b[0m\n\u001b[0;32m    347\u001b[0m \u001b[1;33m\u001b[0m\u001b[0m\n",
      "\u001b[1;32m~\\anaconda3\\lib\\site-packages\\sklearn\\base.py\u001b[0m in \u001b[0;36m_validate_data\u001b[1;34m(self, X, y, reset, validate_separately, **check_params)\u001b[0m\n\u001b[0;32m    564\u001b[0m             \u001b[1;32mraise\u001b[0m \u001b[0mValueError\u001b[0m\u001b[1;33m(\u001b[0m\u001b[1;34m\"Validation should be done on X, y or both.\"\u001b[0m\u001b[1;33m)\u001b[0m\u001b[1;33m\u001b[0m\u001b[1;33m\u001b[0m\u001b[0m\n\u001b[0;32m    565\u001b[0m         \u001b[1;32melif\u001b[0m \u001b[1;32mnot\u001b[0m \u001b[0mno_val_X\u001b[0m \u001b[1;32mand\u001b[0m \u001b[0mno_val_y\u001b[0m\u001b[1;33m:\u001b[0m\u001b[1;33m\u001b[0m\u001b[1;33m\u001b[0m\u001b[0m\n\u001b[1;32m--> 566\u001b[1;33m             \u001b[0mX\u001b[0m \u001b[1;33m=\u001b[0m \u001b[0mcheck_array\u001b[0m\u001b[1;33m(\u001b[0m\u001b[0mX\u001b[0m\u001b[1;33m,\u001b[0m \u001b[1;33m**\u001b[0m\u001b[0mcheck_params\u001b[0m\u001b[1;33m)\u001b[0m\u001b[1;33m\u001b[0m\u001b[1;33m\u001b[0m\u001b[0m\n\u001b[0m\u001b[0;32m    567\u001b[0m             \u001b[0mout\u001b[0m \u001b[1;33m=\u001b[0m \u001b[0mX\u001b[0m\u001b[1;33m\u001b[0m\u001b[1;33m\u001b[0m\u001b[0m\n\u001b[0;32m    568\u001b[0m         \u001b[1;32melif\u001b[0m \u001b[0mno_val_X\u001b[0m \u001b[1;32mand\u001b[0m \u001b[1;32mnot\u001b[0m \u001b[0mno_val_y\u001b[0m\u001b[1;33m:\u001b[0m\u001b[1;33m\u001b[0m\u001b[1;33m\u001b[0m\u001b[0m\n",
      "\u001b[1;32m~\\anaconda3\\lib\\site-packages\\sklearn\\utils\\validation.py\u001b[0m in \u001b[0;36mcheck_array\u001b[1;34m(array, accept_sparse, accept_large_sparse, dtype, order, copy, force_all_finite, ensure_2d, allow_nd, ensure_min_samples, ensure_min_features, estimator)\u001b[0m\n\u001b[0;32m    792\u001b[0m                 ) from e\n\u001b[0;32m    793\u001b[0m         \u001b[1;32mif\u001b[0m \u001b[1;32mnot\u001b[0m \u001b[0mallow_nd\u001b[0m \u001b[1;32mand\u001b[0m \u001b[0marray\u001b[0m\u001b[1;33m.\u001b[0m\u001b[0mndim\u001b[0m \u001b[1;33m>=\u001b[0m \u001b[1;36m3\u001b[0m\u001b[1;33m:\u001b[0m\u001b[1;33m\u001b[0m\u001b[1;33m\u001b[0m\u001b[0m\n\u001b[1;32m--> 794\u001b[1;33m             raise ValueError(\n\u001b[0m\u001b[0;32m    795\u001b[0m                 \u001b[1;34m\"Found array with dim %d. %s expected <= 2.\"\u001b[0m\u001b[1;33m\u001b[0m\u001b[1;33m\u001b[0m\u001b[0m\n\u001b[0;32m    796\u001b[0m                 \u001b[1;33m%\u001b[0m \u001b[1;33m(\u001b[0m\u001b[0marray\u001b[0m\u001b[1;33m.\u001b[0m\u001b[0mndim\u001b[0m\u001b[1;33m,\u001b[0m \u001b[0mestimator_name\u001b[0m\u001b[1;33m)\u001b[0m\u001b[1;33m\u001b[0m\u001b[1;33m\u001b[0m\u001b[0m\n",
      "\u001b[1;31mValueError\u001b[0m: Found array with dim 3. Estimator expected <= 2."
     ]
    }
   ],
   "source": [
    "pickled_model_from_rawdata.predict([sample])"
   ]
  }
 ],
 "metadata": {
  "colab": {
   "collapsed_sections": [
    "f0df9717",
    "16e01252",
    "f087e9dd",
    "4868974b"
   ],
   "name": "Cyclechurnmodel_Viraj_Logis Reg_wo_balancing.ipynb",
   "provenance": []
  },
  "kernelspec": {
   "display_name": "Python 3 (ipykernel)",
   "language": "python",
   "name": "python3"
  },
  "language_info": {
   "codemirror_mode": {
    "name": "ipython",
    "version": 3
   },
   "file_extension": ".py",
   "mimetype": "text/x-python",
   "name": "python",
   "nbconvert_exporter": "python",
   "pygments_lexer": "ipython3",
   "version": "3.9.7"
  }
 },
 "nbformat": 4,
 "nbformat_minor": 5
}
